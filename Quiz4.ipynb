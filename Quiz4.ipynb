{
 "cells": [
  {
   "cell_type": "code",
   "execution_count": 8,
   "metadata": {},
   "outputs": [
    {
     "name": "stdout",
     "output_type": "stream",
     "text": [
      "86 73\n",
      "73 15\n",
      "15 91\n",
      "91 71\n",
      "71 79\n",
      "79 12\n",
      "12 86\n",
      "Two consecutive even numbers: 12 86\n"
     ]
    }
   ],
   "source": [
    "import random\n",
    "x = random.randint(1, 100)\n",
    "y = random.randint(1, 100)\n",
    "while (True):\n",
    "    if x % 2 == 0 and y % 2 == 0:\n",
    "        print (\"Two consecutive even numbers:\", x, y)\n",
    "        break;\n",
    "    else: \n",
    "        x = y \n",
    "        y = random.randint(1, 100)\n",
    "        print (x, y)"
   ]
  }
 ],
 "metadata": {
  "interpreter": {
   "hash": "efaa31b3fdd0aa5f69cd85fac95224499cb40d936a3ba030c12769efa9806897"
  },
  "kernelspec": {
   "display_name": "Python 3.9.7 ('base')",
   "language": "python",
   "name": "python3"
  },
  "language_info": {
   "codemirror_mode": {
    "name": "ipython",
    "version": 3
   },
   "file_extension": ".py",
   "mimetype": "text/x-python",
   "name": "python",
   "nbconvert_exporter": "python",
   "pygments_lexer": "ipython3",
   "version": "3.9.7"
  },
  "orig_nbformat": 4
 },
 "nbformat": 4,
 "nbformat_minor": 2
}
