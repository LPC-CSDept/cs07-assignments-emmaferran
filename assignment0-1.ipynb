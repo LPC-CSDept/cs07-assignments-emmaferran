print ("Hello World")
msg = "Hi"
print (msg)
