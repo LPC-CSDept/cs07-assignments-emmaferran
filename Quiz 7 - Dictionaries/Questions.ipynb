{
 "cells": [
  {
   "cell_type": "markdown",
   "metadata": {},
   "source": []
  },
  {
   "cell_type": "code",
   "execution_count": 19,
   "metadata": {},
   "outputs": [
    {
     "name": "stdout",
     "output_type": "stream",
     "text": [
      "question 1\n",
      "['ID', 'Name', 'Scores']\n",
      "[1001.0, 1002.0, 1003.0, 1004.0, 1005.0]\n",
      "['Kim', 'Bill', 'Mary', 'Kurt', 'Amy']\n",
      "[[100.0, 80.0, 70.0, 60.0], [100.0, 90.0, 80.0, 60.0], [90.0, 80.0, 70.0, 100.0], [100.0, 100.0, 100.0, 90.0], [100.0, 80.0, 80.0, 90.0]]\n",
      "question 2\n",
      "[{'ID': 1001.0, 'Name': 'Kim', 'Scores': [100.0, 80.0, 70.0, 60.0]}, {'ID': 1002.0, 'Name': 'Bill', 'Scores': [100.0, 90.0, 80.0, 60.0]}, {'ID': 1003.0, 'Name': 'Mary', 'Scores': [90.0, 80.0, 70.0, 100.0]}, {'ID': 1004.0, 'Name': 'Kurt', 'Scores': [100.0, 100.0, 100.0, 90.0]}, {'ID': 1005.0, 'Name': 'Amy', 'Scores': [100.0, 80.0, 80.0, 90.0]}]\n",
      "question 3\n",
      "{'ID': 1002.0, 'Name': 'Bill', 'Scores': [100.0, 90.0, 80.0, 60.0]}\n",
      "{'ID': 1003.0, 'Name': 'Mary', 'Scores': [90.0, 80.0, 70.0, 100.0]}\n",
      "{'ID': 1004.0, 'Name': 'Kurt', 'Scores': [100.0, 100.0, 100.0, 90.0]}\n",
      "{'ID': 1005.0, 'Name': 'Amy', 'Scores': [100.0, 80.0, 80.0, 90.0]}\n",
      "question 4\n",
      "1001.0 Kim 310.0\n",
      "1002.0 Bill 330.0\n",
      "1003.0 Mary 340.0\n",
      "1004.0 Kurt 390.0\n",
      "1005.0 Amy 350.0\n",
      "question 5\n",
      "10001001.0 Kim 310.0\n",
      "10001002.0 Bill 330.0\n",
      "10001003.0 Mary 340.0\n",
      "10001004.0 Kurt 390.0\n",
      "10001005.0 Amy 350.0\n"
     ]
    }
   ],
   "source": [
    "print(\"question 1\")\n",
    "import xlrd\n",
    "\n",
    "path = \"student.xls\"\n",
    "\n",
    "workbook = xlrd.open_workbook(path)\n",
    "worksheet = workbook.sheet_by_index(0)\n",
    "\n",
    "IDs = []\n",
    "names = []\n",
    "scores = []\n",
    "header = []\n",
    "\n",
    "for i in range (worksheet.ncols-3):\n",
    "    header.append(worksheet.row_values(0)[i])\n",
    "\n",
    "for j in range (1, worksheet.nrows):\n",
    "    IDs.append(worksheet.row_values(j)[0])\n",
    "    names.append(worksheet.row_values(j)[1])\n",
    "    scolist = []\n",
    "    for k in range (2, worksheet.ncols):\n",
    "        scolist.append(worksheet.row_values(j)[k])\n",
    "    scores.append(scolist)\n",
    "\n",
    "print(header)\n",
    "print(IDs)\n",
    "print(names)\n",
    "print(scores)\n",
    "\n",
    "print(\"question 2\")\n",
    "list = []\n",
    "zippedvalues = zip(IDs, names, scores)\n",
    "\n",
    "for d in zippedvalues:\n",
    "    dict1 = dict(zip(header, d))\n",
    "    list.append(dict1)\n",
    "print(list)\n",
    "\n",
    "print(\"question 3\")\n",
    "for value  in filter(lambda x: sum(x[\"Scores\"]) > 310, list):\n",
    "    print(value)\n",
    "\n",
    "print(\"question 4\")\n",
    "from functools import reduce\n",
    "for n  in  range(worksheet.nrows-1):\n",
    "    print(list[n][\"ID\"], list[n][\"Name\"], reduce(lambda x, y: x + y, list[n][\"Scores\"]))\n",
    "\n",
    "print(\"question 5\")\n",
    "n=0\n",
    "for value in map(lambda x: x[\"ID\"]+ 10000000, list):\n",
    "    print(value, list[n][\"Name\"], reduce(lambda  x, y: x + y, list[n][\"Scores\"]))\n",
    "    n+=1\n",
    "\n"
   ]
  }
 ],
 "metadata": {
  "interpreter": {
   "hash": "efaa31b3fdd0aa5f69cd85fac95224499cb40d936a3ba030c12769efa9806897"
  },
  "kernelspec": {
   "display_name": "Python 3.9.7 ('base')",
   "language": "python",
   "name": "python3"
  },
  "language_info": {
   "codemirror_mode": {
    "name": "ipython",
    "version": 3
   },
   "file_extension": ".py",
   "mimetype": "text/x-python",
   "name": "python",
   "nbconvert_exporter": "python",
   "pygments_lexer": "ipython3",
   "version": "3.9.7"
  },
  "orig_nbformat": 4
 },
 "nbformat": 4,
 "nbformat_minor": 2
}
