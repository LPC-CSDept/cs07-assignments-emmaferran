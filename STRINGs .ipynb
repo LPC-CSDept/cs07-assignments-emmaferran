{
 "cells": [
  {
   "cell_type": "code",
   "execution_count": 16,
   "metadata": {},
   "outputs": [
    {
     "name": "stdout",
     "output_type": "stream",
     "text": [
      "Email address emmaferran@yahoo.com is valid\n"
     ]
    }
   ],
   "source": [
    "#exercise 9 \n",
    "import sys\n",
    "email = input(\"enter your email\") \n",
    "\n",
    "if (len(email)<5 or len(email)>30):\n",
    "    print (\"Invalid Length\")\n",
    "    sys.exit(0)\n",
    "idx = email.find(\"@\")\n",
    "if (idx == -1):\n",
    "    print (\"No symbol @\")\n",
    "    sys.exit (0)\n",
    "substr = email[idx:]\n",
    "if (substr.find (\".\") == -1):\n",
    "    print (\"Invalid domain name\")\n",
    "    sys.exit(0)\n",
    "\n",
    "print (\"Email address {0} is valid\".format(email))"
   ]
  },
  {
   "cell_type": "code",
   "execution_count": 4,
   "metadata": {},
   "outputs": [
    {
     "name": "stdout",
     "output_type": "stream",
     "text": [
      "not same name\n"
     ]
    }
   ],
   "source": [
    "name1 = input(\"insert name\")\n",
    "name2 = input(\"insert name\")\n",
    "\n",
    "if name1 == name2:\n",
    "    print (\"same name\")\n",
    "else:\n",
    "    print (\"not same name\")"
   ]
  },
  {
   "cell_type": "code",
   "execution_count": 12,
   "metadata": {},
   "outputs": [
    {
     "name": "stdout",
     "output_type": "stream",
     "text": [
      "4\n",
      "@company.com\n",
      "@c\n",
      "@company.com\n",
      "@company.com\n",
      "@company.com\n"
     ]
    }
   ],
   "source": [
    "email_str = \"name@company.com\"\n",
    "idx = email_str.find(\"@\")\n",
    "print (idx)\n",
    "\n",
    "company_name = email_str[idx:len(email_str)]\n",
    "print (company_name)\n",
    "email_id = email_str[:idx]\n",
    "\n",
    "print (email_str[4:6])\n",
    "print (email_str[4:16])\n",
    "last_idx = len(email_str)\n",
    "print (email_str[4:last_idx])\n",
    "print (email_str[4:])\n"
   ]
  },
  {
   "cell_type": "code",
   "execution_count": 13,
   "metadata": {},
   "outputs": [
    {
     "name": "stdout",
     "output_type": "stream",
     "text": [
      "name@company\n",
      "company.org\n",
      "name@company.org\n"
     ]
    }
   ],
   "source": [
    "email_str = \"name@company.org\"\n",
    "stripped1 = email_str.rstrip(\".org\")\n",
    "stripped2 = email_str.lstrip(\"name@\")\n",
    "print(stripped1)\n",
    "print(stripped2)\n",
    "print(email_str)\n"
   ]
  }
 ],
 "metadata": {
  "interpreter": {
   "hash": "545e036c4b32438aced1f6b3c8d38ca151d9c36189e05839cb0aa568fda70ddd"
  },
  "kernelspec": {
   "display_name": "Python 2.7.18 64-bit",
   "language": "python",
   "name": "python3"
  },
  "language_info": {
   "codemirror_mode": {
    "name": "ipython",
    "version": 3
   },
   "file_extension": ".py",
   "mimetype": "text/x-python",
   "name": "python",
   "nbconvert_exporter": "python",
   "pygments_lexer": "ipython3",
   "version": "3.9.7"
  },
  "orig_nbformat": 4
 },
 "nbformat": 4,
 "nbformat_minor": 2
}
