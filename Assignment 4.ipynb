{
 "cells": [
  {
   "cell_type": "code",
   "execution_count": 2,
   "metadata": {},
   "outputs": [
    {
     "name": "stdout",
     "output_type": "stream",
     "text": [
      "Coordinate is in Quadrant 1\n"
     ]
    }
   ],
   "source": [
    "x = int(input(\"enter x-coordinate\"))\n",
    "y = int(input(\"enter y-coordinate\"))\n",
    "if x > 0 and y > 0:\n",
    "    print (\"Coordinate is in Quadrant 1\")\n",
    "elif x < 0 and y > 0:\n",
    "    print (\"Coordinate is in Quadrant 2\")\n",
    "elif x < 0 and y < 0:\n",
    "    print (\"Coordinate is in Quadrant 3\")\n",
    "else:\n",
    "    print (\"Coordinate is in Quadrant 4\")"
   ]
  }
 ],
 "metadata": {
  "interpreter": {
   "hash": "31f2aee4e71d21fbe5cf8b01ff0e069b9275f58929596ceb00d14d90e3e16cd6"
  },
  "kernelspec": {
   "display_name": "Python 3.8.9 64-bit",
   "language": "python",
   "name": "python3"
  },
  "language_info": {
   "codemirror_mode": {
    "name": "ipython",
    "version": 3
   },
   "file_extension": ".py",
   "mimetype": "text/x-python",
   "name": "python",
   "nbconvert_exporter": "python",
   "pygments_lexer": "ipython3",
   "version": "3.9.7"
  },
  "orig_nbformat": 4
 },
 "nbformat": 4,
 "nbformat_minor": 2
}
