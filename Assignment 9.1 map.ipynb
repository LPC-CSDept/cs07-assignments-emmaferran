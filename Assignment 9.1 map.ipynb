{
 "cells": [
  {
   "cell_type": "code",
   "execution_count": 5,
   "metadata": {},
   "outputs": [
    {
     "name": "stdout",
     "output_type": "stream",
     "text": [
      "[110, 90, 80, 70]\n"
     ]
    }
   ],
   "source": [
    "Kim = [100, 80, 70, 60]\n",
    "Bill = [100, 90, 80, 60]\n",
    "Mary = [90, 80, 70, 100]\n",
    "\n",
    "total = lambda x : x + 10\n",
    "\n",
    "Kim = list(map(total, Kim))\n",
    "Bill = list(map(total, Bill))\n",
    "Mary = list(map(total, Mary))\n",
    "\n",
    "\n",
    "print(Kim, Bill, Mary)"
   ]
  }
 ],
 "metadata": {
  "interpreter": {
   "hash": "efaa31b3fdd0aa5f69cd85fac95224499cb40d936a3ba030c12769efa9806897"
  },
  "kernelspec": {
   "display_name": "Python 3.9.7 ('base')",
   "language": "python",
   "name": "python3"
  },
  "language_info": {
   "codemirror_mode": {
    "name": "ipython",
    "version": 3
   },
   "file_extension": ".py",
   "mimetype": "text/x-python",
   "name": "python",
   "nbconvert_exporter": "python",
   "pygments_lexer": "ipython3",
   "version": "3.9.7"
  },
  "orig_nbformat": 4
 },
 "nbformat": 4,
 "nbformat_minor": 2
}
