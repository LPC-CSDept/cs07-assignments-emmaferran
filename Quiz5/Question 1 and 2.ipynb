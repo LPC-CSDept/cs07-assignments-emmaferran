{
 "cells": [
  {
   "cell_type": "code",
   "execution_count": 17,
   "metadata": {},
   "outputs": [
    {
     "ename": "TypeError",
     "evalue": "unsupported operand type(s) for +: 'int' and 'str'",
     "output_type": "error",
     "traceback": [
      "\u001b[0;31m---------------------------------------------------------------------------\u001b[0m",
      "\u001b[0;31mTypeError\u001b[0m                                 Traceback (most recent call last)",
      "Input \u001b[0;32mIn [17]\u001b[0m, in \u001b[0;36m<module>\u001b[0;34m\u001b[0m\n\u001b[1;32m     43\u001b[0m         \u001b[38;5;28mprint\u001b[39m(IDs[i], names[i], scoresstring, \u001b[38;5;124m\"\u001b[39m\u001b[38;5;124mtotal:\u001b[39m\u001b[38;5;124m\"\u001b[39m, \u001b[38;5;28msum\u001b[39m(scores[i]), \u001b[38;5;124m\"\u001b[39m\u001b[38;5;124maverage:\u001b[39m\u001b[38;5;124m\"\u001b[39m, \u001b[38;5;28msum\u001b[39m(scores[i])\u001b[38;5;241m/\u001b[39m\u001b[38;5;241m4\u001b[39m)\n\u001b[1;32m     45\u001b[0m getstudentinfo()\n\u001b[0;32m---> 47\u001b[0m high \u001b[38;5;241m=\u001b[39m \u001b[43mfindhighest\u001b[49m\u001b[43m(\u001b[49m\u001b[43m)\u001b[49m\n\u001b[1;32m     48\u001b[0m \u001b[38;5;28mprint\u001b[39m(\u001b[38;5;124m\"\u001b[39m\u001b[38;5;124mStudent with highest score:\u001b[39m\u001b[38;5;124m\"\u001b[39m, names[high], \u001b[38;5;124m\"\u001b[39m\u001b[38;5;124m, and their student ID:\u001b[39m\u001b[38;5;124m\"\u001b[39m, IDs[high])\n\u001b[1;32m     50\u001b[0m low \u001b[38;5;241m=\u001b[39m findlowest()\n",
      "Input \u001b[0;32mIn [17]\u001b[0m, in \u001b[0;36mfindhighest\u001b[0;34m()\u001b[0m\n\u001b[1;32m     18\u001b[0m highest \u001b[38;5;241m=\u001b[39m \u001b[38;5;28mfloat\u001b[39m(\u001b[38;5;124m\"\u001b[39m\u001b[38;5;124m-inf\u001b[39m\u001b[38;5;124m\"\u001b[39m)\n\u001b[1;32m     19\u001b[0m \u001b[38;5;28;01mfor\u001b[39;00m i \u001b[38;5;129;01min\u001b[39;00m \u001b[38;5;28mrange\u001b[39m(\u001b[38;5;28mlen\u001b[39m(scores)):\n\u001b[0;32m---> 20\u001b[0m     \u001b[38;5;28;01mif\u001b[39;00m (\u001b[38;5;28;43msum\u001b[39;49m\u001b[43m(\u001b[49m\u001b[43mscores\u001b[49m\u001b[43m[\u001b[49m\u001b[43mi\u001b[49m\u001b[43m]\u001b[49m\u001b[43m)\u001b[49m \u001b[38;5;241m>\u001b[39m highest):\n\u001b[1;32m     21\u001b[0m         highest \u001b[38;5;241m=\u001b[39m \u001b[38;5;28msum\u001b[39m(scores[i])\n\u001b[1;32m     22\u001b[0m         index \u001b[38;5;241m=\u001b[39m i\n",
      "\u001b[0;31mTypeError\u001b[0m: unsupported operand type(s) for +: 'int' and 'str'"
     ]
    }
   ],
   "source": [
    "#question 1\n",
    "IDs = []\n",
    "names = []\n",
    "scores = []\n",
    "\n",
    "def getstudentinfo():\n",
    "    for i in range(3):\n",
    "        studentid= int(input(\"Enter the student ID\"))\n",
    "        IDs.append(studentid)\n",
    "        studentname= input(\"Enter name of student\")\n",
    "        names.append(studentname)\n",
    "        for j in range(4):\n",
    "            score= input(\"Enter score\")\n",
    "            scores.append(score)\n",
    "\n",
    "def findhighest():\n",
    "    index = 0 \n",
    "    highest = float(\"-inf\")\n",
    "    for i in range(len(scores)):\n",
    "        if (sum(scores[i]) > highest):\n",
    "            highest = sum(scores[i])\n",
    "            index = i\n",
    "\n",
    "    return index\n",
    "\n",
    "\n",
    "def findlowest():\n",
    "    index = 0 \n",
    "    lowest = float(\"inf\")\n",
    "    for i in range(len(scores)):\n",
    "        if (sum(scores[i]) < lowest):\n",
    "            lowest = sum(scores[i])\n",
    "            index = i\n",
    "\n",
    "    return index\n",
    "\n",
    "def printall():\n",
    "    for i in range(len(IDs)):\n",
    "        scoresstring = \"\"\n",
    "        for j in scores[i]:\n",
    "            scoresstring += str(j) + \"\"\n",
    "        scoresstring = scoresstring[0: -1]\n",
    "        print(IDs[i], names[i], scoresstring, \"total:\", sum(scores[i]), \"average:\", sum(scores[i])/4)\n",
    "            \n",
    "getstudentinfo()\n",
    "printall()\n",
    "high = findhighest()\n",
    "print(\"Student with highest score:\", names[high], \", and their student ID:\", IDs[high])\n",
    "\n",
    "low = findlowest()\n",
    "print(\"Student with lowest score:\", names[low], \", and their student ID:\", IDs[low])\n",
    "   "
   ]
  },
  {
   "cell_type": "code",
   "execution_count": 4,
   "metadata": {},
   "outputs": [
    {
     "name": "stdout",
     "output_type": "stream",
     "text": [
      "[2, 4, 6, 8, 10]\n"
     ]
    }
   ],
   "source": [
    "#question two\n",
    "getevens = lambda x: x % 2 == 0 \n",
    "\n",
    "def getmerged(list1, list2):\n",
    "    list3 = []\n",
    "    for i in list1:\n",
    "        if getevens(i) == True:\n",
    "            list3.append(i)\n",
    "    for i in list2:\n",
    "        if getevens(i) == True:\n",
    "            list3.append(i)\n",
    "    yield list3\n",
    "\n",
    "list1 = [1, 2, 3, 4, 5]\n",
    "list2 = [6, 7, 8, 9, 10]\n",
    "answer = getmerged(list1, list2)\n",
    "for i in answer:\n",
    "    print(i)\n",
    "\n",
    "\n",
    "\n",
    "\n"
   ]
  }
 ],
 "metadata": {
  "interpreter": {
   "hash": "31f2aee4e71d21fbe5cf8b01ff0e069b9275f58929596ceb00d14d90e3e16cd6"
  },
  "kernelspec": {
   "display_name": "Python 3.8.9 64-bit",
   "language": "python",
   "name": "python3"
  },
  "language_info": {
   "codemirror_mode": {
    "name": "ipython",
    "version": 3
   },
   "file_extension": ".py",
   "mimetype": "text/x-python",
   "name": "python",
   "nbconvert_exporter": "python",
   "pygments_lexer": "ipython3",
   "version": "3.8.9"
  },
  "orig_nbformat": 4
 },
 "nbformat": 4,
 "nbformat_minor": 2
}
