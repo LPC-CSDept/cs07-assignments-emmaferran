{
 "cells": [
  {
   "cell_type": "code",
   "execution_count": 23,
   "metadata": {},
   "outputs": [
    {
     "ename": "TypeError",
     "evalue": "'int' object is not iterable",
     "output_type": "error",
     "traceback": [
      "\u001b[0;31m---------------------------------------------------------------------------\u001b[0m",
      "\u001b[0;31mTypeError\u001b[0m                                 Traceback (most recent call last)",
      "Input \u001b[0;32mIn [23]\u001b[0m, in \u001b[0;36m<module>\u001b[0;34m\u001b[0m\n\u001b[1;32m     40\u001b[0m scores \u001b[38;5;241m=\u001b[39m [] \n\u001b[1;32m     42\u001b[0m studentinfo()\n\u001b[0;32m---> 43\u001b[0m \u001b[43mprintall\u001b[49m\u001b[43m(\u001b[49m\u001b[43m)\u001b[49m\n\u001b[1;32m     45\u001b[0m high \u001b[38;5;241m=\u001b[39m gethighest()\n\u001b[1;32m     46\u001b[0m \u001b[38;5;28mprint\u001b[39m(\u001b[38;5;124m\"\u001b[39m\u001b[38;5;124mStudent with lowest score:\u001b[39m\u001b[38;5;124m\"\u001b[39m, names[high], \u001b[38;5;124m\"\u001b[39m\u001b[38;5;124m, student ID:\u001b[39m\u001b[38;5;124m\"\u001b[39m, IDs[high])\n",
      "Input \u001b[0;32mIn [23]\u001b[0m, in \u001b[0;36mprintall\u001b[0;34m()\u001b[0m\n\u001b[1;32m     13\u001b[0m \u001b[38;5;28;01mfor\u001b[39;00m i \u001b[38;5;129;01min\u001b[39;00m \u001b[38;5;28mrange\u001b[39m(\u001b[38;5;241m3\u001b[39m):\n\u001b[1;32m     14\u001b[0m     scores1 \u001b[38;5;241m=\u001b[39m \u001b[38;5;124m\"\u001b[39m\u001b[38;5;124m \u001b[39m\u001b[38;5;124m\"\u001b[39m\n\u001b[0;32m---> 15\u001b[0m     \u001b[38;5;28;01mfor\u001b[39;00m i \u001b[38;5;129;01min\u001b[39;00m scores[i]:\n\u001b[1;32m     16\u001b[0m         scores1 \u001b[38;5;241m+\u001b[39m\u001b[38;5;241m=\u001b[39m \u001b[38;5;28mstr\u001b[39m(i) \u001b[38;5;241m+\u001b[39m \u001b[38;5;124m\"\u001b[39m\u001b[38;5;124m \u001b[39m\u001b[38;5;124m\"\u001b[39m\n\u001b[1;32m     17\u001b[0m     scores1 \u001b[38;5;241m=\u001b[39m scores1[\u001b[38;5;241m0\u001b[39m : \u001b[38;5;241m-\u001b[39m\u001b[38;5;241m1\u001b[39m]\n",
      "\u001b[0;31mTypeError\u001b[0m: 'int' object is not iterable"
     ]
    }
   ],
   "source": [
    "#question1\n",
    "def studentinfo():\n",
    "    for i in range(3):\n",
    "        studentID = int(input(\"Enter student ID\"))\n",
    "        IDs.append(studentID)\n",
    "        studentname = (input(\"Enter name\"))\n",
    "        names.append(studentname)\n",
    "        for i in range(4):\n",
    "            score = (int(input(\"Enter score\")))\n",
    "            scores.append(score)\n",
    "\n",
    "def printall():\n",
    "    for i in range(3):\n",
    "        scores1 = \" \"\n",
    "        for j in scores[i]:\n",
    "            scores1 += str(i) + \" \"\n",
    "        scores1 = scores1[0 : -1]\n",
    "        print(IDs[i], names[i], scores1, \"total:\", sum(scores[i]), \"average:\", sum(scores[i])/4)\n",
    "\n",
    "def gethighest():\n",
    "    idx = 0 \n",
    "    highest = float(\"-inf\")\n",
    "    for i in range(len(scores)):\n",
    "        if sum(scores[i]) > highest:\n",
    "            highest = sum(scores[i])\n",
    "            idx = 1\n",
    "    return idx \n",
    "\n",
    "def getlowest():\n",
    "    idx = 0\n",
    "    lowest = float(\"inf\")\n",
    "    for i in range(len(scores)):\n",
    "        if (sum(scores[i])) < lowest:\n",
    "            lowest = sum(scores[i])\n",
    "            idx = 1\n",
    "    return idx\n",
    "    \n",
    "\n",
    "IDs = []\n",
    "names = []\n",
    "scores = [] \n",
    "\n",
    "studentinfo()\n",
    "printall()\n",
    "\n",
    "high = gethighest()\n",
    "print(\"Student with lowest score:\", names[high], \", student ID:\", IDs[high])\n",
    "\n",
    "low = getlowest()\n",
    "print('Student with lowest score:', names[low], \", student ID:\", IDs[low])\n",
    "   "
   ]
  },
  {
   "cell_type": "code",
   "execution_count": 21,
   "metadata": {},
   "outputs": [
    {
     "name": "stdout",
     "output_type": "stream",
     "text": [
      "[2, 4, 6, 8, 10]\n"
     ]
    }
   ],
   "source": [
    "#question two\n",
    "getevens = lambda x: x % 2 == 0 \n",
    "\n",
    "def getmerged(list1, list2):\n",
    "    list3 = []\n",
    "    for i in list1:\n",
    "        if getevens(i) == True:\n",
    "            list3.append(i)\n",
    "    for i in list2:\n",
    "        if getevens(i) == True:\n",
    "            list3.append(i\n",
    "    yield list3\n",
    "\n",
    "list1 = [1, 2, 3, 4, 5]\n",
    "list2 = [6, 7, 8, 9, 10]\n",
    "answer = getmerged(list1, list2)\n",
    "for i in answer:\n",
    "    print(i)\n",
    "\n",
    "\n",
    "\n",
    "\n"
   ]
  }
 ],
 "metadata": {
  "interpreter": {
   "hash": "31f2aee4e71d21fbe5cf8b01ff0e069b9275f58929596ceb00d14d90e3e16cd6"
  },
  "kernelspec": {
   "display_name": "Python 3.8.9 64-bit",
   "language": "python",
   "name": "python3"
  },
  "language_info": {
   "codemirror_mode": {
    "name": "ipython",
    "version": 3
   },
   "file_extension": ".py",
   "mimetype": "text/x-python",
   "name": "python",
   "nbconvert_exporter": "python",
   "pygments_lexer": "ipython3",
   "version": "3.8.9"
  },
  "orig_nbformat": 4
 },
 "nbformat": 4,
 "nbformat_minor": 2
}
