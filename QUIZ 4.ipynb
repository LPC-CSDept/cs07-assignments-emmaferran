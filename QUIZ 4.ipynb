{
 "cells": [
  {
   "cell_type": "code",
   "execution_count": 35,
   "metadata": {},
   "outputs": [
    {
     "name": "stdout",
     "output_type": "stream",
     "text": [
      "83 79\n",
      "79 17\n",
      "17 47\n",
      "47 13\n",
      "13 89\n",
      "89 48\n",
      "48 25\n",
      "25 79\n",
      "79 13\n",
      "13 50\n",
      "50 75\n",
      "75 42\n",
      "42 8\n",
      "Two consecutive even numbers: 42 8\n"
     ]
    }
   ],
   "source": [
    "import random\n",
    "x = random.randint(1, 100)\n",
    "y = random.randint(1, 100)\n",
    "while (True):\n",
    "    if x % 2 == 0 and y % 2 == 0:\n",
    "        print (\"Two consecutive even numbers:\", x, y)\n",
    "        break;\n",
    "    else:\n",
    "        x = y \n",
    "        y = random.randint(1, 100)\n",
    "        print (x, y)"
   ]
  },
  {
   "cell_type": "code",
   "execution_count": 1,
   "metadata": {},
   "outputs": [
    {
     "name": "stdout",
     "output_type": "stream",
     "text": [
      "pretty please\n",
      "2\n",
      "python stop\n",
      "'Stop' is present in entry. Program stopped.\n"
     ]
    }
   ],
   "source": [
    "string =  input(\"Enter string\")\n",
    "while (True):\n",
    "    if (\"stop\") in string:\n",
    "        print(string)\n",
    "        print (\"'Stop' is present in entry. Program stopped.\")\n",
    "        break\n",
    "    else:\n",
    "        print(string)\n",
    "        print(string.count(\"p\"))\n",
    "        string = input(\"Enter new string\")\n",
    "\n"
   ]
  },
  {
   "cell_type": "code",
   "execution_count": 3,
   "metadata": {},
   "outputs": [
    {
     "name": "stdout",
     "output_type": "stream",
     "text": [
      "programming, java, c++, python, stop\n",
      "'Stop' is present in entry. Program stopped.\n",
      "3\n"
     ]
    }
   ],
   "source": [
    "string =  input(\"Enter string\")\n",
    "while (True):\n",
    "    if (\"stop\") in string:\n",
    "        print(string)\n",
    "        print (\"'Stop' is present in entry. Program stopped.\")\n",
    "        print(string.count(\"p\"))\n",
    "        break\n",
    "    else:\n",
    "        string = input(\"Enter new string\")"
   ]
  }
 ],
 "metadata": {
  "interpreter": {
   "hash": "efaa31b3fdd0aa5f69cd85fac95224499cb40d936a3ba030c12769efa9806897"
  },
  "kernelspec": {
   "display_name": "Python 3.9.7 ('base')",
   "language": "python",
   "name": "python3"
  },
  "language_info": {
   "codemirror_mode": {
    "name": "ipython",
    "version": 3
   },
   "file_extension": ".py",
   "mimetype": "text/x-python",
   "name": "python",
   "nbconvert_exporter": "python",
   "pygments_lexer": "ipython3",
   "version": "3.9.7"
  },
  "orig_nbformat": 4
 },
 "nbformat": 4,
 "nbformat_minor": 2
}
