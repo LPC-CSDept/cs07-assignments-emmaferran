{
 "cells": [
  {
   "cell_type": "code",
   "execution_count": null,
   "metadata": {},
   "outputs": [],
   "source": [
    "x = int(input(\"enter integer 1\"))\n",
    "y = int(input(\"enter integer 2\"))\n",
    "z = int(input(\"enter integer 3\"))\n",
    "if x > y:\n",
    "    if x > z:\n",
    "        if y > z:\n",
    "            print (z, y, x)\n",
    "        else: \n",
    "            print (y, z, x)\n",
    "    else:\n",
    "        if "
   ]
  }
 ],
 "metadata": {
  "language_info": {
   "name": "python"
  },
  "orig_nbformat": 4
 },
 "nbformat": 4,
 "nbformat_minor": 2
}
