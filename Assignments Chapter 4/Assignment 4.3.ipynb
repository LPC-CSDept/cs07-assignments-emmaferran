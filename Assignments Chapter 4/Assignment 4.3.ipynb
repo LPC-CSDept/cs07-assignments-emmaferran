{
 "cells": [
  {
   "cell_type": "code",
   "execution_count": 2,
   "metadata": {},
   "outputs": [
    {
     "name": "stdout",
     "output_type": "stream",
     "text": [
      "1 2 3 4 5 6 7 8 9 10 11 "
     ]
    }
   ],
   "source": [
    "#excercise 5\n",
    "i = 0 \n",
    "while True:\n",
    "    i += 1\n",
    "    print (i, end= ' ')\n",
    "    if i > 10:\n",
    "        break;\n",
    "        \n",
    "    "
   ]
  },
  {
   "cell_type": "code",
   "execution_count": 1,
   "metadata": {},
   "outputs": [
    {
     "name": "stdout",
     "output_type": "stream",
     "text": [
      "h\tk\tk\ta\tq\n"
     ]
    }
   ],
   "source": [
    "#excercise 6\n",
    "user_val = input(\"Enter a character\")\n",
    "while (user_val != \"q\"):\n",
    "    print (user_val, end= \"\\t\")\n",
    "    user_val = input(\"Enter your character\")\n",
    "while (user_val == \"q\"):\n",
    "    print (user_val)\n",
    "    break;\n"
   ]
  },
  {
   "cell_type": "code",
   "execution_count": 9,
   "metadata": {},
   "outputs": [
    {
     "name": "stdout",
     "output_type": "stream",
     "text": [
      "the previous number is 56 and the next number is 87\n",
      "next number number is greater than previous number\n"
     ]
    }
   ],
   "source": [
    "#excercise 7\n",
    "import random \n",
    "flag = 1\n",
    "prev = random.randint(0, 99)\n",
    "while (flag):\n",
    "    num = random.randint(0, 99)\n",
    "    print(\"the previous number is\", prev, \"and the next number is\", num)\n",
    "    if prev < num:\n",
    "        print (\"next number number is greater than previous number\")\n",
    "        flag = 0\n"
   ]
  },
  {
   "cell_type": "code",
   "execution_count": 1,
   "metadata": {},
   "outputs": [
    {
     "name": "stdout",
     "output_type": "stream",
     "text": [
      "Your number does not follow guidlines\n",
      "Your number does not follow guidlines\n",
      "Your number is 3\n"
     ]
    }
   ],
   "source": [
    "#excercise 8 \n",
    "number = int(input(\"Enter Your Number\"))\n",
    "while number < 0 or number > 100:\n",
    "    print (\"Your number does not follow guidlines\")\n",
    "    number = int(input(\"Enter Your Number\"))\n",
    "print (\"Your number is\", number)"
   ]
  }
 ],
 "metadata": {
  "interpreter": {
   "hash": "efaa31b3fdd0aa5f69cd85fac95224499cb40d936a3ba030c12769efa9806897"
  },
  "kernelspec": {
   "display_name": "Python 3.9.7 ('base')",
   "language": "python",
   "name": "python3"
  },
  "language_info": {
   "codemirror_mode": {
    "name": "ipython",
    "version": 3
   },
   "file_extension": ".py",
   "mimetype": "text/x-python",
   "name": "python",
   "nbconvert_exporter": "python",
   "pygments_lexer": "ipython3",
   "version": "3.9.7"
  },
  "orig_nbformat": 4
 },
 "nbformat": 4,
 "nbformat_minor": 2
}
