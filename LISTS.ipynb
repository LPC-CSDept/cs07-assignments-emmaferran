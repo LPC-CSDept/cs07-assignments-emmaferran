{
 "cells": [
  {
   "cell_type": "code",
   "execution_count": 2,
   "metadata": {},
   "outputs": [
    {
     "name": "stdout",
     "output_type": "stream",
     "text": [
      "20\n",
      "99\n",
      "[10, 99, 30]\n"
     ]
    }
   ],
   "source": [
    "num = [10, 20, 30]\n",
    "print (num[1])\n",
    "num[1]=99\n",
    "print(num[1])\n",
    "print (num)\n"
   ]
  },
  {
   "cell_type": "code",
   "execution_count": 8,
   "metadata": {},
   "outputs": [
    {
     "name": "stdout",
     "output_type": "stream",
     "text": [
      "[0, 22]\n",
      "[0, 22, 20]\n"
     ]
    }
   ],
   "source": [
    "num= [0, 22]\n",
    "print(num)\n",
    "num.append(20)\n",
    "print(num)"
   ]
  },
  {
   "cell_type": "code",
   "execution_count": 26,
   "metadata": {},
   "outputs": [
    {
     "name": "stdout",
     "output_type": "stream",
     "text": [
      "[0, 0, 0, 0, 0]\n",
      "[0, 0, 0, 0, 0, 10, 10, 10, 10, 10]\n"
     ]
    }
   ],
   "source": [
    "num = [0] * 5\n",
    "print (num)\n",
    "\n",
    "for i in range (5):\n",
    "    num.append(10)\n",
    "print (num)\n",
    "\n"
   ]
  },
  {
   "cell_type": "code",
   "execution_count": 27,
   "metadata": {},
   "outputs": [
    {
     "name": "stdout",
     "output_type": "stream",
     "text": [
      "[0, 1, 2, 3, 4]\n",
      "[0, 1, 99, 2, 3, 4, 10]\n"
     ]
    }
   ],
   "source": [
    "num = [0] * 5\n",
    "for i in range (5):\n",
    "    num[i] = i\n",
    "\n",
    "print(num)\n",
    "num.append(10)\n",
    "num.insert(2, 99) #index, what you want to insert\n",
    "#the rest of the values are shifted to the right\n",
    "print(num)\n"
   ]
  },
  {
   "cell_type": "code",
   "execution_count": 34,
   "metadata": {},
   "outputs": [
    {
     "name": "stdout",
     "output_type": "stream",
     "text": [
      "120\n",
      "20.0\n"
     ]
    }
   ],
   "source": [
    "numbers = [5, 15, 0, 25, 35, 40]\n",
    "#print(len(numbers))\n",
    "summation = 0\n",
    "for i in range(len(numbers)):\n",
    "    summation = summation + numbers[i]\n",
    "print (summation)\n",
    "print (summation/ len(numbers))"
   ]
  },
  {
   "cell_type": "code",
   "execution_count": 45,
   "metadata": {},
   "outputs": [
    {
     "name": "stdout",
     "output_type": "stream",
     "text": [
      "220.0\n",
      " idk \n"
     ]
    }
   ],
   "source": [
    "numbers = [5, 15, 0, 25, 35, 40]\n",
    "\n",
    "# average value\n",
    "for i in range(len(numbers)):\n",
    "    summation = summation + numbers[i]\n",
    "average = summation/len(numbers)\n",
    "print (average)\n",
    "for i in range(len(numbers)):\n",
    "    if (numbers[i] > average):\n",
    "        print (numbers[i])\n",
    "else: print (\" idk \")"
   ]
  }
 ],
 "metadata": {
  "interpreter": {
   "hash": "efaa31b3fdd0aa5f69cd85fac95224499cb40d936a3ba030c12769efa9806897"
  },
  "kernelspec": {
   "display_name": "Python 3.9.7 ('base')",
   "language": "python",
   "name": "python3"
  },
  "language_info": {
   "codemirror_mode": {
    "name": "ipython",
    "version": 3
   },
   "file_extension": ".py",
   "mimetype": "text/x-python",
   "name": "python",
   "nbconvert_exporter": "python",
   "pygments_lexer": "ipython3",
   "version": "3.9.7"
  },
  "orig_nbformat": 4
 },
 "nbformat": 4,
 "nbformat_minor": 2
}
