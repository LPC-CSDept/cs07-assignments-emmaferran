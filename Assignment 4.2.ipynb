{
 "cells": [
  {
   "cell_type": "code",
   "execution_count": 43,
   "metadata": {},
   "outputs": [],
   "source": [
    "# exercise 4.1\n",
    "from random import randrange\n",
    "value = randrange(100)\n",
    "while value % 2 != 0:\n",
    "    print (\"num\")\n",
    "    if value % 2 == 0:\n",
    "        break\n",
    "\n",
    "\n"
   ]
  },
  {
   "cell_type": "code",
   "execution_count": 18,
   "metadata": {},
   "outputs": [
    {
     "name": "stdout",
     "output_type": "stream",
     "text": [
      "51\n",
      "40\n"
     ]
    }
   ],
   "source": [
    "#excercise 4.1 \n",
    "import random\n",
    "while True:\n",
    "    num = random.randint(0,100)\n",
    "    print(num)\n",
    "    if num % 2 == 0:\n",
    "        break\n",
    "    "
   ]
  },
  {
   "cell_type": "code",
   "execution_count": 42,
   "metadata": {},
   "outputs": [
    {
     "name": "stdout",
     "output_type": "stream",
     "text": [
      "29\n",
      "28\n",
      "The summation is 57\n"
     ]
    }
   ],
   "source": [
    "#excercise 4.2\n",
    "import random\n",
    "sum = 0;\n",
    "\n",
    "while sum < 100:\n",
    "    num = random.randint(1,100)\n",
    "    sum += num\n",
    "    if (sum < 100):\n",
    "        print (num)\n",
    "\n",
    "print (\"The summation is\", sum-num)"
   ]
  }
 ],
 "metadata": {
  "interpreter": {
   "hash": "efaa31b3fdd0aa5f69cd85fac95224499cb40d936a3ba030c12769efa9806897"
  },
  "kernelspec": {
   "display_name": "Python 3.9.7 ('base')",
   "language": "python",
   "name": "python3"
  },
  "language_info": {
   "codemirror_mode": {
    "name": "ipython",
    "version": 3
   },
   "file_extension": ".py",
   "mimetype": "text/x-python",
   "name": "python",
   "nbconvert_exporter": "python",
   "pygments_lexer": "ipython3",
   "version": "3.9.7"
  },
  "orig_nbformat": 4
 },
 "nbformat": 4,
 "nbformat_minor": 2
}
