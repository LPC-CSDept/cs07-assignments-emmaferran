{
 "cells": [
  {
   "cell_type": "code",
   "execution_count": 16,
   "metadata": {},
   "outputs": [
    {
     "name": "stdout",
     "output_type": "stream",
     "text": [
      "3\n"
     ]
    }
   ],
   "source": [
    "x = int(input(\"enter integer 1\"))\n",
    "y = int(input(\"enter integer 2\"))\n",
    "z = int(input(\"enter integer 3\"))\n",
    "if x > y and x > z:\n",
    "    print (x)\n",
    "elif y > x and y > z:\n",
    "    print (y) \n",
    "else:\n",
    "    print (z)\n",
    "    "
   ]
  },
  {
   "cell_type": "code",
   "execution_count": 17,
   "metadata": {},
   "outputs": [
    {
     "name": "stdout",
     "output_type": "stream",
     "text": [
      "3\n"
     ]
    }
   ],
   "source": [
    "x = int(input(\"enter integer 1\"))\n",
    "y = int(input(\"enter integer 2\"))\n",
    "z = int(input(\"enter integer 3\"))\n",
    "if x > y and y > z:\n",
    "    print (x)\n",
    "elif y > x and x > z:\n",
    "    print (y)\n",
    "else:\n",
    "    print (z)\n"
   ]
  },
  {
   "cell_type": "code",
   "execution_count": 20,
   "metadata": {},
   "outputs": [],
   "source": [
    "x = int(input(\"enter integer 1\"))\n",
    "y = int(input(\"enter integer 2\"))\n",
    "z = int(input(\"enter integer 3\"))\n",
    "if x > y:\n",
    "    if y > z:\n",
    "        print (x)\n",
    "elif y > x:\n",
    "    if x > z:\n",
    "        print (y)\n",
    "else:\n",
    "    print (z)"
   ]
  }
 ],
 "metadata": {
  "interpreter": {
   "hash": "31f2aee4e71d21fbe5cf8b01ff0e069b9275f58929596ceb00d14d90e3e16cd6"
  },
  "kernelspec": {
   "display_name": "Python 3.8.9 64-bit",
   "language": "python",
   "name": "python3"
  },
  "language_info": {
   "codemirror_mode": {
    "name": "ipython",
    "version": 3
   },
   "file_extension": ".py",
   "mimetype": "text/x-python",
   "name": "python",
   "nbconvert_exporter": "python",
   "pygments_lexer": "ipython3",
   "version": "3.8.9"
  },
  "orig_nbformat": 4
 },
 "nbformat": 4,
 "nbformat_minor": 2
}
