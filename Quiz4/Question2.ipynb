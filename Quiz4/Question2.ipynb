{
 "cells": [
  {
   "cell_type": "code",
   "execution_count": 1,
   "metadata": {},
   "outputs": [
    {
     "name": "stdout",
     "output_type": "stream",
     "text": [
      "pretty please\n",
      "2\n",
      "pretty please python stop\n",
      "Stop is present in string. Program stopped\n"
     ]
    }
   ],
   "source": [
    "#question 2\n",
    "string = input(\"Enter string\")\n",
    "while (True):\n",
    "    if (\"stop\") in string:\n",
    "        print (string)\n",
    "        print (\"Stop is present in string. Program stopped\")\n",
    "        break\n",
    "    else:\n",
    "        print (string)\n",
    "        print (string.count('p'))\n",
    "        string = input(\"Enter new string\")"
   ]
  },
  {
   "cell_type": "code",
   "execution_count": 2,
   "metadata": {},
   "outputs": [
    {
     "name": "stdout",
     "output_type": "stream",
     "text": [
      "pretty please stop\n",
      "Stop is present in entry. Program stopped\n",
      "3\n"
     ]
    }
   ],
   "source": [
    "#alternative to question 2\n",
    "string = input(\"Enter string\")\n",
    "while True:\n",
    "    if (\"stop\") in string:\n",
    "        print (string)\n",
    "        print (\"Stop is present in entry. Program stopped\")\n",
    "        print(string.count('p')) #number of 'p's in code\n",
    "        break\n",
    "    else: \n",
    "        string = input(\"Enter new string\")"
   ]
  }
 ],
 "metadata": {
  "interpreter": {
   "hash": "efaa31b3fdd0aa5f69cd85fac95224499cb40d936a3ba030c12769efa9806897"
  },
  "kernelspec": {
   "display_name": "Python 3.9.7 ('base')",
   "language": "python",
   "name": "python3"
  },
  "language_info": {
   "codemirror_mode": {
    "name": "ipython",
    "version": 3
   },
   "file_extension": ".py",
   "mimetype": "text/x-python",
   "name": "python",
   "nbconvert_exporter": "python",
   "pygments_lexer": "ipython3",
   "version": "3.9.7"
  },
  "orig_nbformat": 4
 },
 "nbformat": 4,
 "nbformat_minor": 2
}
