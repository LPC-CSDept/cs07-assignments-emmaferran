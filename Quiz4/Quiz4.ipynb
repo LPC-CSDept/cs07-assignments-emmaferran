{
 "cells": [
  {
   "cell_type": "code",
   "execution_count": 16,
   "metadata": {},
   "outputs": [
    {
     "name": "stdout",
     "output_type": "stream",
     "text": [
      "71 85\n",
      "85 25\n",
      "25 69\n",
      "69 75\n",
      "75 65\n",
      "65 12\n",
      "12 83\n",
      "83 79\n",
      "79 83\n",
      "83 25\n",
      "25 18\n",
      "18 16\n",
      "Two consecutive even numbers: 18 16\n"
     ]
    }
   ],
   "source": [
    "#question 1\n",
    "import random\n",
    "x = random.randint(1, 100)\n",
    "y = random.randint(1, 100)\n",
    "while (True):\n",
    "    if x % 2 == 0 and y % 2 == 0:\n",
    "        print (\"Two consecutive even numbers:\", x, y)\n",
    "        break;\n",
    "    else: \n",
    "        x = y \n",
    "        y = random.randint(1, 100)\n",
    "        print (x, y)"
   ]
  },
  {
   "cell_type": "code",
   "execution_count": 9,
   "metadata": {},
   "outputs": [
    {
     "name": "stdout",
     "output_type": "stream",
     "text": [
      "pretty please\n",
      "2\n",
      "python stop\n",
      "Stop is present in string. Program stopped\n"
     ]
    }
   ],
   "source": [
    "#question 2\n",
    "string = input(\"Enter string\")\n",
    "while (True):\n",
    "    if (\"stop\") in string:\n",
    "        print (string)\n",
    "        print (\"Stop is present in string. Program stopped\")\n",
    "        break\n",
    "    else:\n",
    "        print (string)\n",
    "        print (string.count('p'))\n",
    "        string = input(\"Enter new string\")\n"
   ]
  },
  {
   "cell_type": "code",
   "execution_count": 13,
   "metadata": {},
   "outputs": [
    {
     "name": "stdout",
     "output_type": "stream",
     "text": [
      "python programming python programming python stop\n",
      "Stop is present in entry. Program stopped\n",
      "6\n"
     ]
    }
   ],
   "source": [
    "#alternative to question 2\n",
    "string = input(\"Enter string\")\n",
    "while True:\n",
    "    if (\"stop\") in string:\n",
    "        print (string)\n",
    "        print (\"Stop is present in entry. Program stopped\")\n",
    "        print(string.count('p')) #number of 'p's in code\n",
    "        break\n",
    "    else: \n",
    "        string = input(\"Enter new string\")\n"
   ]
  }
 ],
 "metadata": {
  "interpreter": {
   "hash": "efaa31b3fdd0aa5f69cd85fac95224499cb40d936a3ba030c12769efa9806897"
  },
  "kernelspec": {
   "display_name": "Python 3.9.7 ('base')",
   "language": "python",
   "name": "python3"
  },
  "language_info": {
   "codemirror_mode": {
    "name": "ipython",
    "version": 3
   },
   "file_extension": ".py",
   "mimetype": "text/x-python",
   "name": "python",
   "nbconvert_exporter": "python",
   "pygments_lexer": "ipython3",
   "version": "3.9.7"
  },
  "orig_nbformat": 4
 },
 "nbformat": 4,
 "nbformat_minor": 2
}
