{
 "cells": [
  {
   "cell_type": "code",
   "execution_count": 3,
   "metadata": {},
   "outputs": [
    {
     "name": "stdout",
     "output_type": "stream",
     "text": [
      "94 65\n",
      "65 91\n",
      "91 13\n",
      "13 74\n",
      "74 21\n",
      "21 81\n",
      "81 52\n",
      "52 77\n",
      "77 19\n",
      "19 9\n",
      "9 9\n",
      "9 13\n",
      "13 82\n",
      "82 77\n",
      "77 41\n",
      "41 17\n",
      "17 86\n",
      "86 24\n",
      "Two consecutive even numbers: 86 24\n"
     ]
    }
   ],
   "source": [
    "#question 1\n",
    "import random\n",
    "x = random.randint(1, 100)\n",
    "y = random.randint(1, 100)\n",
    "while (True):\n",
    "    if x % 2 == 0 and y % 2 == 0:\n",
    "        print (\"Two consecutive even numbers:\", x, y)\n",
    "        break;\n",
    "    else: \n",
    "        x = y \n",
    "        y = random.randint(1, 100)\n",
    "        print (x, y)"
   ]
  }
 ],
 "metadata": {
  "interpreter": {
   "hash": "efaa31b3fdd0aa5f69cd85fac95224499cb40d936a3ba030c12769efa9806897"
  },
  "kernelspec": {
   "display_name": "Python 3.9.7 ('base')",
   "language": "python",
   "name": "python3"
  },
  "language_info": {
   "codemirror_mode": {
    "name": "ipython",
    "version": 3
   },
   "file_extension": ".py",
   "mimetype": "text/x-python",
   "name": "python",
   "nbconvert_exporter": "python",
   "pygments_lexer": "ipython3",
   "version": "3.9.7"
  },
  "orig_nbformat": 4
 },
 "nbformat": 4,
 "nbformat_minor": 2
}
