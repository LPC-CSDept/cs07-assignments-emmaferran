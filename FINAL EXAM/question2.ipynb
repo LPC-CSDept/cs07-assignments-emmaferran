{
 "cells": [
  {
   "cell_type": "code",
   "execution_count": 21,
   "metadata": {},
   "outputs": [
    {
     "name": "stdout",
     "output_type": "stream",
     "text": [
      "[1, 2, 1, 2, 1, 3, 1, 0, 0, 4]\n",
      "Answer: 1 (4 times occured)\n"
     ]
    }
   ],
   "source": [
    "import random\n",
    "def RandomNumbers ():\n",
    "  Numbers = []\n",
    "  for i in range(0, 10):\n",
    "    Numbers.append(random.randint(0,4))\n",
    "  return Numbers\n",
    "\n",
    "def FoundNumbers (Numbers):\n",
    "  found = {'0': 0, '1': 0, '2': 0, '3': 0, '4': 0}\n",
    "  for i in Numbers:\n",
    "    found[str(i)] += 1\n",
    "  return found\n",
    "\n",
    "def HighestValue (found):\n",
    "  highestValue = 0\n",
    "  for num in found:\n",
    "    if found[num] > highestValue:\n",
    "      highestValue = found[num]\n",
    "      best = { \"number\": num, \"found\": found[num] }\n",
    "  return best\n",
    "\n",
    "def printAnswer (best):\n",
    "  print('Answer: ' + str(best[\"number\"]) + ' (' + str(best[\"found\"]) + ' times occured)')\n",
    "  \n",
    "NumberList = RandomNumbers()\n",
    "print(NumberList)\n",
    "found = FoundNumbers(NumberList)\n",
    "highestValue = HighestValue(found)\n",
    "printAnswer(highestValue)"
   ]
  }
 ],
 "metadata": {
  "interpreter": {
   "hash": "efaa31b3fdd0aa5f69cd85fac95224499cb40d936a3ba030c12769efa9806897"
  },
  "kernelspec": {
   "display_name": "Python 3.9.7 ('base')",
   "language": "python",
   "name": "python3"
  },
  "language_info": {
   "codemirror_mode": {
    "name": "ipython",
    "version": 3
   },
   "file_extension": ".py",
   "mimetype": "text/x-python",
   "name": "python",
   "nbconvert_exporter": "python",
   "pygments_lexer": "ipython3",
   "version": "3.9.7"
  },
  "orig_nbformat": 4
 },
 "nbformat": 4,
 "nbformat_minor": 2
}
