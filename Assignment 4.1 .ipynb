{
 "cells": [
  {
   "cell_type": "code",
   "execution_count": 3,
   "metadata": {},
   "outputs": [
    {
     "name": "stdout",
     "output_type": "stream",
     "text": [
      "2 4 8 16 32 64 128 256 512 1024 "
     ]
    }
   ],
   "source": [
    "#excercise 1\n",
    "for i in range (1, 11):\n",
    "    print (2**i, end= ' ')"
   ]
  },
  {
   "cell_type": "code",
   "execution_count": 6,
   "metadata": {},
   "outputs": [
    {
     "name": "stdout",
     "output_type": "stream",
     "text": [
      "summation is 26\n"
     ]
    }
   ],
   "source": [
    "#excercise 2\n",
    "sum = 10 \n",
    "#i was experimenting with various sum starters other than 0\n",
    "for i in range(5):\n",
    "    number = int(input(\"enter number\"))\n",
    "    sum = sum + number\n",
    "print(\"summation is\", sum)"
   ]
  },
  {
   "cell_type": "code",
   "execution_count": 10,
   "metadata": {},
   "outputs": [
    {
     "name": "stdout",
     "output_type": "stream",
     "text": [
      "summation is 18\n"
     ]
    }
   ],
   "source": [
    "#excercise 3\n",
    "sum = 0 \n",
    "i = 0 \n",
    "while i < 5:\n",
    "    number = int(input(\"enter number\"))\n",
    "    i = i + 1\n",
    "    sum += number\n",
    "print (\"summation is\", sum)"
   ]
  }
 ],
 "metadata": {
  "interpreter": {
   "hash": "efaa31b3fdd0aa5f69cd85fac95224499cb40d936a3ba030c12769efa9806897"
  },
  "kernelspec": {
   "display_name": "Python 3.9.7 ('base')",
   "language": "python",
   "name": "python3"
  },
  "language_info": {
   "codemirror_mode": {
    "name": "ipython",
    "version": 3
   },
   "file_extension": ".py",
   "mimetype": "text/x-python",
   "name": "python",
   "nbconvert_exporter": "python",
   "pygments_lexer": "ipython3",
   "version": "3.9.7"
  },
  "orig_nbformat": 4
 },
 "nbformat": 4,
 "nbformat_minor": 2
}
