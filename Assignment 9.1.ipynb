{
 "cells": [
  {
   "cell_type": "code",
   "execution_count": 1,
   "metadata": {},
   "outputs": [
    {
     "name": "stdout",
     "output_type": "stream",
     "text": [
      "Kim's sum is 310\n",
      "Bill's sum is 330\n",
      "Mary's sum is 340\n"
     ]
    }
   ],
   "source": [
    "from functools import reduce\n",
    "\n",
    "Kim = [100, 80, 70, 60]\n",
    "Bill = [100, 90, 80, 60]\n",
    "Mary = [90, 80, 70, 100]\n",
    "\n",
    "total = lambda x,y : x + y\n",
    "\n",
    "KimSum = reduce(total, Kim)\n",
    "BillSum = reduce(total, Bill)\n",
    "MarySum = reduce(total, Mary)\n",
    "\n",
    "print(\"Kim's sum is\", KimSum)\n",
    "print(\"Bill's sum is\", BillSum)\n",
    "print(\"Mary's sum is\", MarySum)"
   ]
  }
 ],
 "metadata": {
  "interpreter": {
   "hash": "efaa31b3fdd0aa5f69cd85fac95224499cb40d936a3ba030c12769efa9806897"
  },
  "kernelspec": {
   "display_name": "Python 3.9.7 ('base')",
   "language": "python",
   "name": "python3"
  },
  "language_info": {
   "codemirror_mode": {
    "name": "ipython",
    "version": 3
   },
   "file_extension": ".py",
   "mimetype": "text/x-python",
   "name": "python",
   "nbconvert_exporter": "python",
   "pygments_lexer": "ipython3",
   "version": "3.9.7"
  },
  "orig_nbformat": 4
 },
 "nbformat": 4,
 "nbformat_minor": 2
}
