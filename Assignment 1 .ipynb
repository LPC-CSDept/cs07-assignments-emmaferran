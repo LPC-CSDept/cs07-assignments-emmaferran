{
 "cells": [
  {
   "cell_type": "code",
   "execution_count": 1,
   "metadata": {},
   "outputs": [
    {
     "name": "stdout",
     "output_type": "stream",
     "text": [
      "the total number of students is 100\n",
      "the amount of men in the class is 40 the amount of women in the class is 60\n",
      "Male percentage of class = 40%\n",
      "Female percentage of class = 60%\n"
     ]
    }
   ],
   "source": [
    "men = int(input(\"amount of men\"))\n",
    "women = int(input(\"amount of women\"))\n",
    "total = (men + women)\n",
    "print (\"the total number of students is\" , total)\n",
    "students = total\n",
    "print (\"the amount of men in the class is\" ,men, \"the amount of women in the class is\" ,women)\n",
    "men = (men / students)\n",
    "women = (women / students)\n",
    "\n",
    "print (\"Male percentage of class =\" ,format(men, \".0%\"))\n",
    "print (\"Female percentage of class =\" ,format(women, \".0%\"))"
   ]
  }
 ],
 "metadata": {
  "interpreter": {
   "hash": "efaa31b3fdd0aa5f69cd85fac95224499cb40d936a3ba030c12769efa9806897"
  },
  "kernelspec": {
   "display_name": "Python 3.9.7 ('base': conda)",
   "language": "python",
   "name": "python3"
  },
  "language_info": {
   "codemirror_mode": {
    "name": "ipython",
    "version": 3
   },
   "file_extension": ".py",
   "mimetype": "text/x-python",
   "name": "python",
   "nbconvert_exporter": "python",
   "pygments_lexer": "ipython3",
   "version": "3.9.7"
  },
  "orig_nbformat": 4
 },
 "nbformat": 4,
 "nbformat_minor": 2
}
