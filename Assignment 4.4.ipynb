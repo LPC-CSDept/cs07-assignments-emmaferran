{
 "cells": [
  {
   "cell_type": "code",
   "execution_count": 94,
   "metadata": {},
   "outputs": [
    {
     "name": "stdout",
     "output_type": "stream",
     "text": [
      "the previous number is 88 and the next number is 26\n",
      "the previous number is 88 and the next number is 92\n",
      "next number number is greater than previous number\n"
     ]
    }
   ],
   "source": [
    "#exercise 9\n",
    "import random\n",
    "flag = 1\n",
    "prev = random.randint(0, 99)\n",
    "while (flag):\n",
    "    num = random.randint(0, 99)\n",
    "    print(\"the previous number is\", prev, \"and the next number is\", num)\n",
    "    if prev < num:\n",
    "        print (\"next number number is greater than previous number\")\n",
    "        flag = 0\n",
    "    \n",
    "    # Add this line to save the current num as a prev num.\n",
    "    prev = num \n"
   ]
  },
  {
   "cell_type": "code",
   "execution_count": 49,
   "metadata": {},
   "outputs": [
    {
     "name": "stdout",
     "output_type": "stream",
     "text": [
      "34 33 20 99 \n",
      " The total is 186\n"
     ]
    }
   ],
   "source": [
    "#excercise 10\n",
    "import random\n",
    "sum = 0 \n",
    "i = 0\n",
    "while ( i < 10):\n",
    "    number = random.randint(0,100)\n",
    "    print (number, end= ' ')\n",
    "    sum += number\n",
    "    if (sum > 100):\n",
    "        print(\"\\n The total is {0}\".format(sum))\n",
    "        break\n",
    "    i +=1\n",
    "else:\n",
    "    print (\"\\nThe total is <= 100\")"
   ]
  },
  {
   "cell_type": "code",
   "execution_count": 53,
   "metadata": {},
   "outputs": [
    {
     "name": "stdout",
     "output_type": "stream",
     "text": [
      "what are we doing?\n",
      "Good question.\n"
     ]
    }
   ],
   "source": [
    "#my own example of while loop\n",
    "question = input(\"Enter a question\")\n",
    "while len(question) < 100:\n",
    "    print (question)\n",
    "    if (\"?\") in (question):\n",
    "        print (\"Good question.\")\n",
    "        break\n",
    "    else: \n",
    "        print (\"That's not a question. Enter a new one\")\n",
    "        question = input(\"Enter a new question\")\n",
    "else: \n",
    "    print (\"Your question is too long. Enter a shorter one.\")\n",
    "    question = input(\"Enter a shorter question\")\n",
    "        \n"
   ]
  },
  {
   "cell_type": "code",
   "execution_count": 56,
   "metadata": {},
   "outputs": [
    {
     "name": "stdout",
     "output_type": "stream",
     "text": [
      "100\n"
     ]
    }
   ],
   "source": [
    "sum = 0 \n",
    "i = 0\n",
    "while i < 10:\n",
    "    j = 0\n",
    "    while j < 10:\n",
    "        sum += 1 \n",
    "        j += 1\n",
    "    i += 1\n",
    "print (sum)"
   ]
  }
 ],
 "metadata": {
  "interpreter": {
   "hash": "efaa31b3fdd0aa5f69cd85fac95224499cb40d936a3ba030c12769efa9806897"
  },
  "kernelspec": {
   "display_name": "Python 3.9.7 ('base')",
   "language": "python",
   "name": "python3"
  },
  "language_info": {
   "codemirror_mode": {
    "name": "ipython",
    "version": 3
   },
   "file_extension": ".py",
   "mimetype": "text/x-python",
   "name": "python",
   "nbconvert_exporter": "python",
   "pygments_lexer": "ipython3",
   "version": "3.9.7"
  },
  "orig_nbformat": 4
 },
 "nbformat": 4,
 "nbformat_minor": 2
}
