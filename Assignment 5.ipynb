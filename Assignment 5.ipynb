{
 "cells": [
  {
   "cell_type": "code",
   "execution_count": 94,
   "metadata": {},
   "outputs": [
    {
     "name": "stdout",
     "output_type": "stream",
     "text": [
      "0\n",
      "100\n",
      "56\n",
      "all values are distinct\n"
     ]
    }
   ],
   "source": [
    "import random\n",
    "number1 = random.randint(0,100)\n",
    "number2 = random.randint(0,100)\n",
    "number3 = random.randint(0,100)\n",
    "print (number1)\n",
    "print (number2)\n",
    "print (number3)\n",
    "if number1 == number2 and number2 == number3:\n",
    "    print (\"all values are the same\")\n",
    "elif number1 == number2 or number1 == number3 or number2==number3:\n",
    "    print (\"two values are the same\")\n",
    "else:\n",
    "    print(\"all values are distinct\")"
   ]
  }
 ],
 "metadata": {
  "interpreter": {
   "hash": "efaa31b3fdd0aa5f69cd85fac95224499cb40d936a3ba030c12769efa9806897"
  },
  "kernelspec": {
   "display_name": "Python 3.9.7 ('base')",
   "language": "python",
   "name": "python3"
  },
  "language_info": {
   "codemirror_mode": {
    "name": "ipython",
    "version": 3
   },
   "file_extension": ".py",
   "mimetype": "text/x-python",
   "name": "python",
   "nbconvert_exporter": "python",
   "pygments_lexer": "ipython3",
   "version": "3.9.7"
  },
  "orig_nbformat": 4
 },
 "nbformat": 4,
 "nbformat_minor": 2
}
