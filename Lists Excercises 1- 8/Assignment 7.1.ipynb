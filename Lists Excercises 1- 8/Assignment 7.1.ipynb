{
 "cells": [
  {
   "cell_type": "code",
   "execution_count": 5,
   "metadata": {},
   "outputs": [
    {
     "name": "stdout",
     "output_type": "stream",
     "text": [
      "[15, 20, 0, 3]\n",
      "[15, 3]\n",
      "The sum of the list is 18\n",
      "The average is 9.0\n"
     ]
    }
   ],
   "source": [
    "#assignment 7.1\n",
    "numbers = [ ] \n",
    "i = 0 \n",
    "while True:\n",
    "    val = int(input())\n",
    "    if val < 0:\n",
    "        break\n",
    "    numbers.append(val)\n",
    "print (numbers)\n",
    "\n",
    "numbers.remove(min(numbers))\n",
    "numbers.remove(max(numbers))\n",
    "\n",
    "print (numbers)\n",
    "\n",
    "print(\"The sum of the list is\", sum(numbers))\n",
    "\n",
    "avg = sum(numbers) / len(numbers)\n",
    "print(\"The average is\", avg)\n",
    "\n",
    "\n"
   ]
  },
  {
   "cell_type": "code",
   "execution_count": null,
   "metadata": {},
   "outputs": [],
   "source": [
    "#pop = remove using index\n",
    "#remove = remove using value"
   ]
  }
 ],
 "metadata": {
  "interpreter": {
   "hash": "545e036c4b32438aced1f6b3c8d38ca151d9c36189e05839cb0aa568fda70ddd"
  },
  "kernelspec": {
   "display_name": "Python 2.7.18 64-bit",
   "language": "python",
   "name": "python3"
  },
  "language_info": {
   "codemirror_mode": {
    "name": "ipython",
    "version": 3
   },
   "file_extension": ".py",
   "mimetype": "text/x-python",
   "name": "python",
   "nbconvert_exporter": "python",
   "pygments_lexer": "ipython3",
   "version": "3.9.7"
  },
  "orig_nbformat": 4
 },
 "nbformat": 4,
 "nbformat_minor": 2
}
