{
 "cells": [
  {
   "cell_type": "code",
   "execution_count": 6,
   "metadata": {},
   "outputs": [
    {
     "name": "stdout",
     "output_type": "stream",
     "text": [
      "[71, 67, 0, 6, 43, 52, 20, 44, 89, 24]\n",
      "The average of the list is 41.6\n",
      "[71, 67, 43, 52, 44, 89]\n",
      "Number of numbers greater than average: 6\n"
     ]
    }
   ],
   "source": [
    "#excercise 3\n",
    "import random\n",
    "randomlist = random.sample(range(0,100), 10)\n",
    "print(randomlist)\n",
    "avg = (sum(randomlist) / len(randomlist))\n",
    "print (\"The average of the list is\", avg)\n",
    "newlist = []\n",
    "for n in randomlist:\n",
    "    if n > avg:\n",
    "        newlist.append (n)\n",
    "\n",
    "print (newlist)\n",
    "print (\"Number of numbers greater than average:\", len(newlist))\n"
   ]
  },
  {
   "cell_type": "code",
   "execution_count": 7,
   "metadata": {},
   "outputs": [
    {
     "name": "stdout",
     "output_type": "stream",
     "text": [
      "[3, 0, 6, 9, 8, 7, 4, 1, 5, 2]\n",
      "[9, 3, 7, 8, 2, 10, 5, 0, 1, 6]\n",
      "(12, 3, 13, 17, 10, 17, 9, 1, 6, 8)\n"
     ]
    }
   ],
   "source": [
    "#excercise 4\n",
    "import random\n",
    "list1 = random.sample(range(0, 10), 10)\n",
    "list2 = random.sample(range(0, 10), 10)\n",
    "print (list1)\n",
    "print (list2)\n",
    "list3 = (list1[0]+list2[0]), (list1[1]+list2[1]), (list1[2]+list2[2]), (list1[3]+list2[3]), (list1[4]+list2[4]), (list1[5]+list2[5]), (list1[6]+list2[6]), (list1[7]+list2[7]), (list1[8]+list2[8]), (list1[9]+list2[9])\n",
    "print(list3)"
   ]
  },
  {
   "cell_type": "code",
   "execution_count": 11,
   "metadata": {},
   "outputs": [
    {
     "name": "stdout",
     "output_type": "stream",
     "text": [
      "[2, 0, 8, 9, 6, 1, 3, 4, 7, 5]\n",
      "(2, 8, 6, 3, 7)\n"
     ]
    }
   ],
   "source": [
    "#excercise 5\n",
    "import random\n",
    "list1 = random.sample(range(0,10), 10)\n",
    "print(list1)\n",
    "list2 = (list1[0], list1[2], list1[4], list1[6], list1[8])\n",
    "print(list2)"
   ]
  },
  {
   "cell_type": "code",
   "execution_count": 21,
   "metadata": {},
   "outputs": [
    {
     "name": "stdout",
     "output_type": "stream",
     "text": [
      "None\n",
      "None\n"
     ]
    }
   ],
   "source": [
    "#excercise 6 \n",
    "n = int(input(\"How many names\"))\n",
    "list = []\n",
    "for i in range(n):\n",
    "    name = input(\"Enter name\")\n",
    "    if (\"j\") or (\"J\") in (name):\n",
    "        list.append(name)\n",
    "    else: \n",
    "\n",
    "    "
   ]
  }
 ],
 "metadata": {
  "interpreter": {
   "hash": "efaa31b3fdd0aa5f69cd85fac95224499cb40d936a3ba030c12769efa9806897"
  },
  "kernelspec": {
   "display_name": "Python 3.9.7 ('base')",
   "language": "python",
   "name": "python3"
  },
  "language_info": {
   "codemirror_mode": {
    "name": "ipython",
    "version": 3
   },
   "file_extension": ".py",
   "mimetype": "text/x-python",
   "name": "python",
   "nbconvert_exporter": "python",
   "pygments_lexer": "ipython3",
   "version": "3.9.7"
  },
  "orig_nbformat": 4
 },
 "nbformat": 4,
 "nbformat_minor": 2
}
