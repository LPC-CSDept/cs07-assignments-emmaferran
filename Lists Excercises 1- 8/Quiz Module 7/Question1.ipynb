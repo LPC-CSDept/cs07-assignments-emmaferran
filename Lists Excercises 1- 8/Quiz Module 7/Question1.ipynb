{
 "cells": [
  {
   "cell_type": "code",
   "execution_count": 36,
   "metadata": {},
   "outputs": [
    {
     "name": "stdout",
     "output_type": "stream",
     "text": [
      "[39, 75, 69, 54, 46, 52, 29, 56, 19, 66]\n",
      "[19, 75, 69, 54, 46, 52, 29, 56, 39, 66]\n",
      "[19, 29, 69, 54, 46, 52, 75, 56, 39, 66]\n"
     ]
    }
   ],
   "source": [
    "#question 1\n",
    "import random\n",
    "numbers = []\n",
    "for i in range(10):\n",
    "    numbers.append(random.randint(0, 100))\n",
    "print(numbers)\n",
    "\n",
    "m = min(numbers)\n",
    "x = (numbers.index(min(numbers))) #find index of minimum number\n",
    "#reassign indexes\n",
    "numbers[0], numbers[x] = numbers[x], numbers[0]\n",
    "\n",
    "print(numbers)\n",
    "\n",
    "numbers2 = numbers\n",
    "\n",
    "y = numbers2[0]\n",
    "numbers2.pop(0)\n",
    "\n",
    "\n",
    "\n",
    "z = (numbers2.index(min(numbers2)))\n",
    "numbers2[0], numbers2[z] = numbers2[z], numbers2[0]\n",
    "\n",
    "numbers.insert(0, y)\n",
    "print(numbers2)\n",
    "\n",
    "\n",
    "    \n",
    "\n"
   ]
  }
 ],
 "metadata": {
  "interpreter": {
   "hash": "efaa31b3fdd0aa5f69cd85fac95224499cb40d936a3ba030c12769efa9806897"
  },
  "kernelspec": {
   "display_name": "Python 3.9.7 ('base')",
   "language": "python",
   "name": "python3"
  },
  "language_info": {
   "codemirror_mode": {
    "name": "ipython",
    "version": 3
   },
   "file_extension": ".py",
   "mimetype": "text/x-python",
   "name": "python",
   "nbconvert_exporter": "python",
   "pygments_lexer": "ipython3",
   "version": "3.9.7"
  },
  "orig_nbformat": 4
 },
 "nbformat": 4,
 "nbformat_minor": 2
}
