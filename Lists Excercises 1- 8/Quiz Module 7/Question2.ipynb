{
 "cells": [
  {
   "cell_type": "code",
   "execution_count": 23,
   "metadata": {},
   "outputs": [
    {
     "name": "stdout",
     "output_type": "stream",
     "text": [
      "['Bill', 'Jim', 'Joe']\n",
      "[[100, 90, 90, 90], [100, 90, 80, 80], [100, 80, 90, 90]]\n",
      "Bill average score is 92.5\n",
      "Bill sum is 370\n",
      "Jim average score is 87.5\n",
      "Jim sum is 350\n",
      "Joe average score is 90.0\n",
      "Joe sum is 360\n",
      "subject 0 sum is 300\n",
      "subject 0 average score is 100.0\n",
      "subject 1 sum is 260\n",
      "subject 1 average score is 86.66666666666667\n",
      "subject 2 sum is 260\n",
      "subject 2 average score is 86.66666666666667\n",
      "subject 3 sum is 260\n",
      "subject 3 average score is 86.66666666666667\n"
     ]
    }
   ],
   "source": [
    "#question 2\n",
    "cols = int(input(\"number of students\"))\n",
    "rows = int(input(\"number of subjects\"))\n",
    "names = []\n",
    "scores = []\n",
    "for i in range(cols):\n",
    "    usrname = (input(\"Names of student\"))\n",
    "    names.append(usrname)\n",
    "    scores.append([ ])\n",
    "    for i in range(rows):\n",
    "        scores[-1].append(int(input(\"Enter scores\")))\n",
    "\n",
    "print(names)\n",
    "print(scores)\n",
    "\n",
    "for i in range(len(scores)):\n",
    "    print(names[i], \"average score is\", sum(scores[i])/len(scores[i]))\n",
    "    print(names[i], \"sum is\", sum(scores[i]))\n",
    "\n",
    "flippedscores = list(map(list, zip(*scores)))\n",
    "\n",
    "for i in range(len(flippedscores)):\n",
    "    print(\"subject\", i, \"sum is\", sum(flippedscores[i]))\n",
    "    print(\"subject\", i, \"average score is\", sum(flippedscores[i])/len(flippedscores[i]))\n"
   ]
  }
 ],
 "metadata": {
  "interpreter": {
   "hash": "efaa31b3fdd0aa5f69cd85fac95224499cb40d936a3ba030c12769efa9806897"
  },
  "kernelspec": {
   "display_name": "Python 3.9.7 ('base')",
   "language": "python",
   "name": "python3"
  },
  "language_info": {
   "codemirror_mode": {
    "name": "ipython",
    "version": 3
   },
   "file_extension": ".py",
   "mimetype": "text/x-python",
   "name": "python",
   "nbconvert_exporter": "python",
   "pygments_lexer": "ipython3",
   "version": "3.9.7"
  },
  "orig_nbformat": 4
 },
 "nbformat": 4,
 "nbformat_minor": 2
}
