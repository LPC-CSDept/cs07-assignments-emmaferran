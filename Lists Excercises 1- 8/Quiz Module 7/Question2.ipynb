{
 "cells": [
  {
   "cell_type": "code",
   "execution_count": 19,
   "metadata": {},
   "outputs": [
    {
     "name": "stdout",
     "output_type": "stream",
     "text": [
      "['joe', 'mary', 'steve', 'mary']\n",
      "[[20, 30, 40], [30, 40, 50], [40, 60, 10], [30, 60, 100]]\n",
      "joe average score is 30.0\n",
      "joe sum is 90\n",
      "mary average score is 40.0\n",
      "mary sum is 120\n",
      "steve average score is 36.666666666666664\n",
      "steve sum is 110\n",
      "mary average score is 63.333333333333336\n",
      "mary sum is 190\n",
      "subject 0 sum is 120\n",
      "subject 0 average score is 30.0\n",
      "subject 1 sum is 190\n",
      "subject 1 average score is 47.5\n",
      "subject 2 sum is 200\n",
      "subject 2 average score is 50.0\n"
     ]
    }
   ],
   "source": [
    "#question 2\n",
    "rows = int(input(\"Number of students\"))\n",
    "cols = int(input(\"Number of subjects\"))\n",
    "names = []\n",
    "scores = []\n",
    "for i in range(cols):\n",
    "    usrname = (input(\"Names of students\"))\n",
    "    names.append(usrname)\n",
    "    scores.append([ ])\n",
    "    for i in range(rows):\n",
    "        scores[-1].append(int(input(\"Enter score\")))\n",
    "\n",
    "print(names)\n",
    "print(scores)\n",
    "\n",
    "for i in range(len(scores)):\n",
    "    print(names[i], \"average score is\", sum(scores[i])/len(scores[i]))\n",
    "    print(names[i], \"sum is\", sum(scores[i]))\n",
    "\n",
    "flippedscores = list(map(list, zip(*scores)))\n",
    "\n",
    "for i in range(len(flippedscores)):\n",
    "    print(\"subject\", i, \"sum is\", sum(flippedscores[i]))\n",
    "    print(\"subject\", i, \"average score is\", sum(flippedscores[i])/len(flippedscores[i]))\n"
   ]
  }
 ],
 "metadata": {
  "interpreter": {
   "hash": "efaa31b3fdd0aa5f69cd85fac95224499cb40d936a3ba030c12769efa9806897"
  },
  "kernelspec": {
   "display_name": "Python 3.9.7 ('base')",
   "language": "python",
   "name": "python3"
  },
  "language_info": {
   "codemirror_mode": {
    "name": "ipython",
    "version": 3
   },
   "file_extension": ".py",
   "mimetype": "text/x-python",
   "name": "python",
   "nbconvert_exporter": "python",
   "pygments_lexer": "ipython3",
   "version": "3.9.7"
  },
  "orig_nbformat": 4
 },
 "nbformat": 4,
 "nbformat_minor": 2
}
