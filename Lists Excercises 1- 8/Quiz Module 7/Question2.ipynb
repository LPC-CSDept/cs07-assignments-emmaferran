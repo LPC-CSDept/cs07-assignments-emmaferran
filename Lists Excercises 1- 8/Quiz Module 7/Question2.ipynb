{
 "cells": [
  {
   "cell_type": "code",
   "execution_count": 12,
   "metadata": {},
   "outputs": [
    {
     "name": "stdout",
     "output_type": "stream",
     "text": [
      "['joe', 'mary', 'dave']\n",
      "The summation of row 0: 370\n",
      "The average of row 0: 92.5\n",
      "The summation of row 1: 350\n",
      "The average of row 1: 87.5\n",
      "The summation of row 2: 360\n",
      "The average of row 2: 90.0\n"
     ]
    },
    {
     "ename": "IndexError",
     "evalue": "list index out of range",
     "output_type": "error",
     "traceback": [
      "\u001b[0;31m---------------------------------------------------------------------------\u001b[0m",
      "\u001b[0;31mIndexError\u001b[0m                                Traceback (most recent call last)",
      "\u001b[0;32m/var/folders/yj/spt50yzx3lx10w83jkd7httr0000gn/T/ipykernel_63999/847281163.py\u001b[0m in \u001b[0;36m<module>\u001b[0;34m\u001b[0m\n\u001b[1;32m     23\u001b[0m     \u001b[0mcols\u001b[0m \u001b[0;34m=\u001b[0m \u001b[0;36m0\u001b[0m\u001b[0;34m\u001b[0m\u001b[0;34m\u001b[0m\u001b[0m\n\u001b[1;32m     24\u001b[0m     \u001b[0;32mfor\u001b[0m \u001b[0mj\u001b[0m \u001b[0;32min\u001b[0m \u001b[0mrange\u001b[0m\u001b[0;34m(\u001b[0m\u001b[0mrows\u001b[0m\u001b[0;34m)\u001b[0m\u001b[0;34m:\u001b[0m\u001b[0;34m\u001b[0m\u001b[0;34m\u001b[0m\u001b[0m\n\u001b[0;32m---> 25\u001b[0;31m         \u001b[0mcols\u001b[0m \u001b[0;34m+=\u001b[0m \u001b[0mscores\u001b[0m\u001b[0;34m[\u001b[0m\u001b[0mj\u001b[0m\u001b[0;34m]\u001b[0m\u001b[0;34m[\u001b[0m\u001b[0mi\u001b[0m\u001b[0;34m]\u001b[0m\u001b[0;34m\u001b[0m\u001b[0;34m\u001b[0m\u001b[0m\n\u001b[0m\u001b[1;32m     26\u001b[0m     \u001b[0mprint\u001b[0m\u001b[0;34m(\u001b[0m\u001b[0;34m\"The summation of the scores for subject {0}: {}\"\u001b[0m\u001b[0;34m.\u001b[0m\u001b[0mformat\u001b[0m\u001b[0;34m(\u001b[0m\u001b[0mi\u001b[0m\u001b[0;34m,\u001b[0m \u001b[0mcols\u001b[0m\u001b[0;34m)\u001b[0m\u001b[0;34m)\u001b[0m\u001b[0;34m\u001b[0m\u001b[0;34m\u001b[0m\u001b[0m\n\u001b[1;32m     27\u001b[0m     \u001b[0mprint\u001b[0m\u001b[0;34m(\u001b[0m\u001b[0;34m\"The average score for subject {0}: {1}\"\u001b[0m\u001b[0;34m.\u001b[0m\u001b[0mformat\u001b[0m\u001b[0;34m(\u001b[0m\u001b[0mi\u001b[0m\u001b[0;34m,\u001b[0m \u001b[0mcols\u001b[0m\u001b[0;34m/\u001b[0m\u001b[0;36m3\u001b[0m\u001b[0;34m)\u001b[0m\u001b[0;34m)\u001b[0m\u001b[0;34m\u001b[0m\u001b[0;34m\u001b[0m\u001b[0m\n",
      "\u001b[0;31mIndexError\u001b[0m: list index out of range"
     ]
    }
   ],
   "source": [
    "#question 2\n",
    "rows = int(input(\"Number of students\"))\n",
    "cols = int(input(\"Number of subjects\"))\n",
    "names = []\n",
    "for i in range(rows):\n",
    "    usrname = (input(\"Names of students\"))\n",
    "    names.append(usrname)\n",
    "print(names)\n",
    "\n",
    "scores = [  [100, 90, 90, 90],\n",
    "            [100, 90, 80, 80],\n",
    "            [100, 80, 90, 90]]\n",
    "\n",
    "for i in range(rows):\n",
    "    rows = 0\n",
    "    for j in range(cols):\n",
    "        rows += scores[i][j]\n",
    "    print(\"The summation of row {0}: {1}\".format(i, rows))\n",
    "    print (\"The average of row {0}: {1}\".format(i, rows/4))\n",
    "\n",
    "\n",
    "for i in range(cols):\n",
    "    cols = 0\n",
    "    for j in range(rows):\n",
    "        cols += scores[j][i]\n",
    "    print(\"The summation of the scores for subject {0}: {}\".format(i, cols))\n",
    "    print(\"The average score for subject {0}: {1}\".format(i, cols/3))\n"
   ]
  }
 ],
 "metadata": {
  "interpreter": {
   "hash": "efaa31b3fdd0aa5f69cd85fac95224499cb40d936a3ba030c12769efa9806897"
  },
  "kernelspec": {
   "display_name": "Python 3.9.7 ('base')",
   "language": "python",
   "name": "python3"
  },
  "language_info": {
   "codemirror_mode": {
    "name": "ipython",
    "version": 3
   },
   "file_extension": ".py",
   "mimetype": "text/x-python",
   "name": "python",
   "nbconvert_exporter": "python",
   "pygments_lexer": "ipython3",
   "version": "3.9.7"
  },
  "orig_nbformat": 4
 },
 "nbformat": 4,
 "nbformat_minor": 2
}
