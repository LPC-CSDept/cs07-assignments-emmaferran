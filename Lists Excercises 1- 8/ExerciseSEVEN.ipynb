{
 "cells": [
  {
   "cell_type": "code",
   "execution_count": 5,
   "metadata": {},
   "outputs": [
    {
     "name": "stdout",
     "output_type": "stream",
     "text": [
      "[15, 48, 68, 2, 24, 19, 79, 89, 61, 70, 4]\n"
     ]
    }
   ],
   "source": [
    "#excercise 7\n",
    "import random\n",
    "randomlist = random.sample(range(0,100), 10)\n",
    "\n",
    "usernumber = int(input(\"Enter number\"))\n",
    "\n",
    "randomlist.append(usernumber)\n",
    "print(randomlist)\n"
   ]
  }
 ],
 "metadata": {
  "interpreter": {
   "hash": "efaa31b3fdd0aa5f69cd85fac95224499cb40d936a3ba030c12769efa9806897"
  },
  "kernelspec": {
   "display_name": "Python 3.9.7 ('base')",
   "language": "python",
   "name": "python3"
  },
  "language_info": {
   "codemirror_mode": {
    "name": "ipython",
    "version": 3
   },
   "file_extension": ".py",
   "mimetype": "text/x-python",
   "name": "python",
   "nbconvert_exporter": "python",
   "pygments_lexer": "ipython3",
   "version": "3.9.7"
  },
  "orig_nbformat": 4
 },
 "nbformat": 4,
 "nbformat_minor": 2
}
