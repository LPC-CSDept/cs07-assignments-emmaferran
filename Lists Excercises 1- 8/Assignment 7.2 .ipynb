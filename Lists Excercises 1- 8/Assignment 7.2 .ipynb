{
 "cells": [
  {
   "cell_type": "code",
   "execution_count": 15,
   "metadata": {},
   "outputs": [
    {
     "name": "stdout",
     "output_type": "stream",
     "text": [
      "24.29\n",
      "['14.29', '19.29', '4.29', '20.71', '24.29', '25.71', '15.71']\n"
     ]
    }
   ],
   "source": [
    "#assignment 7.2\n",
    "list =[]\n",
    "n = int(input(\"How many values?\"))\n",
    "total = 0 \n",
    "for i in range (n):\n",
    "    num = int(input('Enter value'))\n",
    "    list.append(num)\n",
    "    total += num \n",
    "\n",
    "\n",
    "avg = total / len(list)\n",
    "print(format(avg, \".2f\"))\n",
    "\n",
    "\n",
    "newlist = []\n",
    "for i in range(n):\n",
    "    distance = abs(list[i]-avg)\n",
    "    distance = format(distance, '.2f')\n",
    "    newlist.append(distance)\n",
    "    i += 1\n",
    "\n",
    "print(newlist)"
   ]
  }
 ],
 "metadata": {
  "interpreter": {
   "hash": "efaa31b3fdd0aa5f69cd85fac95224499cb40d936a3ba030c12769efa9806897"
  },
  "kernelspec": {
   "display_name": "Python 3.9.7 ('base')",
   "language": "python",
   "name": "python3"
  },
  "language_info": {
   "codemirror_mode": {
    "name": "ipython",
    "version": 3
   },
   "file_extension": ".py",
   "mimetype": "text/x-python",
   "name": "python",
   "nbconvert_exporter": "python",
   "pygments_lexer": "ipython3",
   "version": "3.9.7"
  },
  "orig_nbformat": 4
 },
 "nbformat": 4,
 "nbformat_minor": 2
}
