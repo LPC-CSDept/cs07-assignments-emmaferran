{
 "cells": [
  {
   "cell_type": "code",
   "execution_count": 7,
   "metadata": {},
   "outputs": [
    {
     "name": "stdout",
     "output_type": "stream",
     "text": [
      "[1, 2, 3]\n",
      "[1, 2, 3, 4, 5]\n",
      "True\n"
     ]
    }
   ],
   "source": [
    "#assignment 7.6\n",
    "numlist1 = int(input(\"How many values in list 1?\"))\n",
    "list1 = []\n",
    "for i in range(numlist1):\n",
    "    value = int(input(\"Enter value for first set\"))\n",
    "    list1.append(value)\n",
    "print (list1)\n",
    "numlist2 = int(input(\"How many values in list 2?\"))\n",
    "list2 = []\n",
    "for i in range (numlist2):\n",
    "    value = int(input(\"Enter value for second set\"))\n",
    "    list2.append(value)\n",
    "print (list2)\n",
    "isTrue = False\n",
    "for i in range(len(list2)):\n",
    "    if(list1[i:i+len(list2)] == list1):\n",
    "        isTrue = True\n",
    "if(not isTrue):\n",
    "    print(False)\n",
    "else:\n",
    "    print(True)"
   ]
  },
  {
   "cell_type": "code",
   "execution_count": 4,
   "metadata": {},
   "outputs": [
    {
     "name": "stdout",
     "output_type": "stream",
     "text": [
      "[1, 2, 3, 4, 5, 6, 7]\n"
     ]
    }
   ],
   "source": [
    "#assignment 7.7\n",
    "#shorter list must come first \n",
    "\n",
    "num1 = [1, 2, 3,]\n",
    "num2 = [4, 5, 6, 7]\n",
    "if len(num1) < len(num2):\n",
    "    num3 = num1 +num2\n",
    "else: \n",
    "    num3 = num2 +num1\n",
    "\n",
    "\n",
    "print(num3)\n",
    "\n"
   ]
  },
  {
   "cell_type": "code",
   "execution_count": 12,
   "metadata": {},
   "outputs": [
    {
     "name": "stdout",
     "output_type": "stream",
     "text": [
      "[1, 2, 3, 4, 5]\n",
      "[1, 2, 3]\n"
     ]
    }
   ],
   "source": [
    "#assignment 7.8\n",
    "\n",
    "numlist1 = int(input(\"How many values in list 1?\"))\n",
    "list1 = []\n",
    "for i in range(numlist1):\n",
    "    value = int(input(\"Enter value for list 1\"))\n",
    "    list1.append(value)\n",
    "print(list1)\n",
    "\n",
    "numlist2 = int(input(\"How many values in list 2?\"))\n",
    "list2 = []\n",
    "for i in range(numlist2):\n",
    "    value = int(input(\"Enter values for list 2\"))\n",
    "    list2.append(value)\n",
    "print(list2)\n",
    "\n",
    "\n"
   ]
  },
  {
   "cell_type": "code",
   "execution_count": 1,
   "metadata": {},
   "outputs": [
    {
     "name": "stdout",
     "output_type": "stream",
     "text": [
      "['Python', 5]\n",
      "['Computer', 'Programming', 'With ', 'Python', 'Yay']\n",
      "True\n"
     ]
    }
   ],
   "source": [
    "#assignment 7.9\n",
    "list = []\n",
    "keyword = input(\"Enter keyword\")\n",
    "list.append(keyword)\n",
    "n = int(input(\"Enter number of inputs\"))\n",
    "list.append (n)\n",
    "print (list)\n",
    "list2 = []\n",
    "for i in range(n):\n",
    "    strings = input(\"Enter string\")\n",
    "    list2.append(strings)\n",
    "print(list2)\n",
    "if keyword in list2:\n",
    "    print(\"True\")\n",
    "else:\n",
    "    print(\"False\")\n"
   ]
  },
  {
   "cell_type": "code",
   "execution_count": null,
   "metadata": {},
   "outputs": [],
   "source": [
    "#assignment 7.10\n",
    "numberofrows = int(input(\"Enter number of rows\"))\n",
    "numberofcolumns =int(input(\"Enter number of columns\"))\n",
    "numbers = \n",
    "\n",
    "\n",
    "\n",
    "\n",
    "\n",
    "\n",
    "\n",
    "\n",
    "for i in range(numberofrows):\n",
    "    numberofrows = 0 \n",
    "    for j in range (numberofcolumns):\n",
    "        numberofrows += numbers [i][j]\n",
    "    print (\"The summation of row {0}: {1}\".format(i, numberofrows))\n",
    "\n"
   ]
  }
 ],
 "metadata": {
  "interpreter": {
   "hash": "efaa31b3fdd0aa5f69cd85fac95224499cb40d936a3ba030c12769efa9806897"
  },
  "kernelspec": {
   "display_name": "Python 3.9.7 ('base')",
   "language": "python",
   "name": "python3"
  },
  "language_info": {
   "codemirror_mode": {
    "name": "ipython",
    "version": 3
   },
   "file_extension": ".py",
   "mimetype": "text/x-python",
   "name": "python",
   "nbconvert_exporter": "python",
   "pygments_lexer": "ipython3",
   "version": "3.9.7"
  },
  "orig_nbformat": 4
 },
 "nbformat": 4,
 "nbformat_minor": 2
}
