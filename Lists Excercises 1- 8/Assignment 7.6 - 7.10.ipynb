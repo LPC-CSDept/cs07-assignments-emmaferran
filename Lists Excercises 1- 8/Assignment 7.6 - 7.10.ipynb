{
 "cells": [
  {
   "cell_type": "code",
   "execution_count": 7,
   "metadata": {},
   "outputs": [
    {
     "name": "stdout",
     "output_type": "stream",
     "text": [
      "[1, 2, 3]\n",
      "[1, 2, 3, 4, 5]\n",
      "True\n"
     ]
    }
   ],
   "source": [
    "#assignment 7.6\n",
    "numlist1 = int(input(\"How many values in list 1?\"))\n",
    "list1 = []\n",
    "for i in range(numlist1):\n",
    "    value = int(input(\"Enter value for first set\"))\n",
    "    list1.append(value)\n",
    "print (list1)\n",
    "numlist2 = int(input(\"How many values in list 2?\"))\n",
    "list2 = []\n",
    "for i in range (numlist2):\n",
    "    value = int(input(\"Enter value for second set\"))\n",
    "    list2.append(value)\n",
    "print (list2)\n",
    "isTrue = False\n",
    "for i in range(len(list2)):\n",
    "    if(list1[i:i+len(list2)] == list1):\n",
    "        isTrue = True\n",
    "if(not isTrue):\n",
    "    print(False)\n",
    "else:\n",
    "    print(True)"
   ]
  },
  {
   "cell_type": "code",
   "execution_count": 4,
   "metadata": {},
   "outputs": [
    {
     "name": "stdout",
     "output_type": "stream",
     "text": [
      "[1, 2, 3, 4, 5, 6, 7]\n"
     ]
    }
   ],
   "source": [
    "#assignment 7.7\n",
    "#shorter list must come first \n",
    "\n",
    "num1 = [1, 2, 3,]\n",
    "num2 = [4, 5, 6, 7]\n",
    "if len(num1) < len(num2):\n",
    "    num3 = num1 +num2\n",
    "else: \n",
    "    num3 = num2 +num1\n",
    "\n",
    "\n",
    "print(num3)\n",
    "\n"
   ]
  },
  {
   "cell_type": "code",
   "execution_count": 17,
   "metadata": {},
   "outputs": [
    {
     "name": "stdout",
     "output_type": "stream",
     "text": [
      "[1, 1, 2, 2, 3, 3, 4, 5]\n"
     ]
    }
   ],
   "source": [
    "#assignment 7.8\n",
    "\n",
    "sizelist1= int(input(\"How many values in List 1?\"))\n",
    "list1 = []\n",
    "for i in range(sizelist1):\n",
    "    list1.append(int(input(\"Enter value\")))\n",
    "\n",
    "sizelist2 = int(input(\"How many values in List 2?\"))\n",
    "list2 = []\n",
    "for i in range(sizelist2):\n",
    "    list2.append(int(input(\"Enter value\")))\n",
    "\n",
    "list3 = []\n",
    "if len(list1) > len(list2):\n",
    "    curr = list1\n",
    "else:\n",
    "    curr = list2\n",
    "\n",
    "for i in range(len(curr)):\n",
    "    try:\n",
    "        list3.append(list1[i])\n",
    "    except:\n",
    "        pass\n",
    "    try:\n",
    "        list3.append(list2[i])\n",
    "    except:\n",
    "        pass\n",
    "\n",
    "print (list3)"
   ]
  },
  {
   "cell_type": "code",
   "execution_count": 1,
   "metadata": {},
   "outputs": [
    {
     "name": "stdout",
     "output_type": "stream",
     "text": [
      "['Python', 5]\n",
      "['Computer', 'Programming', 'With ', 'Python', 'Yay']\n",
      "True\n"
     ]
    }
   ],
   "source": [
    "#assignment 7.9\n",
    "list = []\n",
    "keyword = input(\"Enter keyword\")\n",
    "list.append(keyword)\n",
    "n = int(input(\"Enter number of inputs\"))\n",
    "list.append (n)\n",
    "print (list)\n",
    "list2 = []\n",
    "for i in range(n):\n",
    "    strings = input(\"Enter string\")\n",
    "    list2.append(strings)\n",
    "print(list2)\n",
    "if keyword in list2:\n",
    "    print(\"True\")\n",
    "else:\n",
    "    print(\"False\")\n"
   ]
  },
  {
   "cell_type": "code",
   "execution_count": 20,
   "metadata": {},
   "outputs": [
    {
     "name": "stdout",
     "output_type": "stream",
     "text": [
      "[[97, 34, 87], [90, 92, 82], [87, 74, 92]]\n",
      "The biggest row is row 1\n",
      "The biggest column is 1\n"
     ]
    }
   ],
   "source": [
    "#assignment 7.10\n",
    "import random\n",
    "numberofrows = int(input(\"Enter number of rows\"))\n",
    "numberofcolumns =int(input(\"Enter number of columns\"))\n",
    "matrix = []\n",
    "\n",
    "for i in range(numberofrows):\n",
    "    matrix.append([]) \n",
    "    for j in range (numberofcolumns):\n",
    "        matrix[-1].append(random.randint(0, 100))\n",
    "\n",
    "print(matrix)\n",
    "maximum = float(\"-inf\")\n",
    "big = 0\n",
    "\n",
    "for i, j in enumerate(matrix):\n",
    "    if sum(j)> maximum:\n",
    "        maximum = sum(j)\n",
    "        big = i\n",
    "print (\"The biggest row is row\", big)\n",
    "\n",
    "maximum = float(\"-inf\")\n",
    "for i, j in enumerate(matrix):\n",
    "    if (sum(j) > maximum):\n",
    "        maximum = sum(j)\n",
    "        big = i\n",
    "print(\"The biggest column is\", big)"
   ]
  }
 ],
 "metadata": {
  "interpreter": {
   "hash": "efaa31b3fdd0aa5f69cd85fac95224499cb40d936a3ba030c12769efa9806897"
  },
  "kernelspec": {
   "display_name": "Python 3.9.7 ('base')",
   "language": "python",
   "name": "python3"
  },
  "language_info": {
   "codemirror_mode": {
    "name": "ipython",
    "version": 3
   },
   "file_extension": ".py",
   "mimetype": "text/x-python",
   "name": "python",
   "nbconvert_exporter": "python",
   "pygments_lexer": "ipython3",
   "version": "3.9.7"
  },
  "orig_nbformat": 4
 },
 "nbformat": 4,
 "nbformat_minor": 2
}
