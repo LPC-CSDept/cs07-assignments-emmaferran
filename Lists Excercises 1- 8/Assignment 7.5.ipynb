{
 "cells": [
  {
   "cell_type": "code",
   "execution_count": 3,
   "metadata": {},
   "outputs": [
    {
     "name": "stdout",
     "output_type": "stream",
     "text": [
      "[90, 86, 64, 55, 8, 10, 4, 25, 27, 14, 82, 92, 91, 30, 75, 57, 30, 76, 91, 75]\n",
      "The user wants to delete  91\n",
      "The updated list is [90, 86, 64, 55, 8, 10, 4, 25, 27, 14, 82, 92, 30, 75, 57, 30, 76, 91, 75]\n"
     ]
    }
   ],
   "source": [
    "#assignment 7.5\n",
    "\n",
    "import random\n",
    "n = int(input(\"Enter the number of values\"))\n",
    "list = []\n",
    "for i in range(n):\n",
    "    value = random.randint(1, 100)\n",
    "    list.append(value)\n",
    "\n",
    "print(list)\n",
    "\n",
    "omitvalue = int(input(\"Enter number to delete\"))\n",
    "print(\"The user wants to delete \", omitvalue)\n",
    "list.remove(omitvalue)\n",
    "print(\"The updated list is\", list)"
   ]
  }
 ],
 "metadata": {
  "interpreter": {
   "hash": "efaa31b3fdd0aa5f69cd85fac95224499cb40d936a3ba030c12769efa9806897"
  },
  "kernelspec": {
   "display_name": "Python 3.9.7 ('base')",
   "language": "python",
   "name": "python3"
  },
  "language_info": {
   "codemirror_mode": {
    "name": "ipython",
    "version": 3
   },
   "file_extension": ".py",
   "mimetype": "text/x-python",
   "name": "python",
   "nbconvert_exporter": "python",
   "pygments_lexer": "ipython3",
   "version": "3.9.7"
  },
  "orig_nbformat": 4
 },
 "nbformat": 4,
 "nbformat_minor": 2
}
