{
 "cells": [
  {
   "cell_type": "code",
   "execution_count": 10,
   "metadata": {},
   "outputs": [
    {
     "name": "stdout",
     "output_type": "stream",
     "text": [
      "[15, 56, 17, 61, 54, 38, 98, 1, 4, 53, 16, 4, 80, 29, 97, 57, 73, 19, 41, 96]\n",
      "The user wants to delete  4\n",
      "The updated list is [15, 56, 17, 61, 54, 38, 98, 1, 53, 16, 80, 29, 97, 57, 73, 19, 41, 96]\n"
     ]
    }
   ],
   "source": [
    "#assignment 7.5\n",
    "\n",
    "import random\n",
    "n = int(input(\"Enter the number of values\"))\n",
    "list = []\n",
    "for i in range(n):\n",
    "    value = random.randint(1, 100)\n",
    "    list.append(value)\n",
    "\n",
    "print(list)\n",
    "\n",
    "omitvalue = int(input(\"Enter number to delete\"))\n",
    "print(\"The user wants to delete \", omitvalue)\n",
    "\n",
    "list = [i for i in list if i != omitvalue] \n",
    "\n",
    "\n",
    "print(\"The updated list is\", list)"
   ]
  }
 ],
 "metadata": {
  "interpreter": {
   "hash": "efaa31b3fdd0aa5f69cd85fac95224499cb40d936a3ba030c12769efa9806897"
  },
  "kernelspec": {
   "display_name": "Python 3.9.7 ('base')",
   "language": "python",
   "name": "python3"
  },
  "language_info": {
   "codemirror_mode": {
    "name": "ipython",
    "version": 3
   },
   "file_extension": ".py",
   "mimetype": "text/x-python",
   "name": "python",
   "nbconvert_exporter": "python",
   "pygments_lexer": "ipython3",
   "version": "3.9.7"
  },
  "orig_nbformat": 4
 },
 "nbformat": 4,
 "nbformat_minor": 2
}
