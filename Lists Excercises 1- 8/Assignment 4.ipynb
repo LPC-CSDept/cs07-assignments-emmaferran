{
 "cells": [
  {
   "cell_type": "code",
   "execution_count": 11,
   "metadata": {},
   "outputs": [
    {
     "name": "stdout",
     "output_type": "stream",
     "text": [
      "[5, 20, 10, 40, 30]\n",
      "25\n",
      "[5, 10, 20, 25, 30, 40]\n"
     ]
    }
   ],
   "source": [
    "#assignment 7.4\n",
    "list = []\n",
    "n = int(input(\"how many values?\"))\n",
    "for i in range(n):\n",
    "    num = int(input(\"Enter value\"))\n",
    "    list.append(num)\n",
    "\n",
    "print (list)\n",
    "\n",
    "newvalue = int(input(\"Enter value to append\"))\n",
    "print(newvalue)\n",
    "list.append(newvalue)\n",
    "list.sort()\n",
    "\n",
    "print(list)\n"
   ]
  }
 ],
 "metadata": {
  "interpreter": {
   "hash": "efaa31b3fdd0aa5f69cd85fac95224499cb40d936a3ba030c12769efa9806897"
  },
  "kernelspec": {
   "display_name": "Python 3.9.7 ('base')",
   "language": "python",
   "name": "python3"
  },
  "language_info": {
   "codemirror_mode": {
    "name": "ipython",
    "version": 3
   },
   "file_extension": ".py",
   "mimetype": "text/x-python",
   "name": "python",
   "nbconvert_exporter": "python",
   "pygments_lexer": "ipython3",
   "version": "3.9.7"
  },
  "orig_nbformat": 4
 },
 "nbformat": 4,
 "nbformat_minor": 2
}
