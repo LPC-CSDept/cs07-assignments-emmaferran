{
 "cells": [
  {
   "cell_type": "code",
   "execution_count": 1,
   "metadata": {},
   "outputs": [
    {
     "name": "stdout",
     "output_type": "stream",
     "text": [
      "[1, 2, 3, 4, 5]\n",
      "The highest value is 5\n",
      "The lowest value is  1\n",
      "Updated list is: [2, 3, 4]\n",
      "The sum  is 9\n",
      "The average is 3.0\n"
     ]
    }
   ],
   "source": [
    "#excercise 1\n",
    "#Create a list with 5 integer values(user inputs)\n",
    "#Calculate summation and average of all numbers except the min and max\n",
    "\n",
    "quantity= int(input('How many elements'))\n",
    "list1 = []\n",
    "for i in range(quantity):\n",
    "    list1.append(int(input(\"Enter those elements\")))\n",
    "print(list1)\n",
    "\n",
    "print(\"The highest value is\", max(list1))\n",
    "print(\"The lowest value is \", min(list1))\n",
    "\n",
    "list1.remove(max(list1))\n",
    "list1.remove(min(list1))\n",
    "\n",
    "print(\"Updated list is:\", list1)\n",
    "\n",
    "print (\"The sum  is\", sum(list1))\n",
    "avg = (sum(list1) / len(list1))\n",
    "print (\"The average is\", avg)\n"
   ]
  }
 ],
 "metadata": {
  "interpreter": {
   "hash": "efaa31b3fdd0aa5f69cd85fac95224499cb40d936a3ba030c12769efa9806897"
  },
  "kernelspec": {
   "display_name": "Python 3.9.7 ('base')",
   "language": "python",
   "name": "python3"
  },
  "language_info": {
   "codemirror_mode": {
    "name": "ipython",
    "version": 3
   },
   "file_extension": ".py",
   "mimetype": "text/x-python",
   "name": "python",
   "nbconvert_exporter": "python",
   "pygments_lexer": "ipython3",
   "version": "3.9.7"
  },
  "orig_nbformat": 4
 },
 "nbformat": 4,
 "nbformat_minor": 2
}
