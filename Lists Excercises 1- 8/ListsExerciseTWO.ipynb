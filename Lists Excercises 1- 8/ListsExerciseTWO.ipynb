{
 "cells": [
  {
   "cell_type": "code",
   "execution_count": 1,
   "metadata": {},
   "outputs": [
    {
     "name": "stdout",
     "output_type": "stream",
     "text": [
      "[49, 47, 75, 22, 81, 97, 70, 60, 82, 86]\n",
      "22\n",
      "[49, 47, 75, 22, 81, 97, 70, 60, 82, 86]\n",
      "22\n"
     ]
    }
   ],
   "source": [
    "#excercise 2\n",
    "import random\n",
    "randomlist = random.sample(range(0, 100),10)\n",
    "#using min()\n",
    "print(randomlist)\n",
    "print(min(randomlist))\n",
    "#using index()\n",
    "print(randomlist)\n",
    "randomlist.sort()\n",
    "min = randomlist[0]\n",
    "print(min)"
   ]
  }
 ],
 "metadata": {
  "interpreter": {
   "hash": "efaa31b3fdd0aa5f69cd85fac95224499cb40d936a3ba030c12769efa9806897"
  },
  "kernelspec": {
   "display_name": "Python 3.9.7 ('base')",
   "language": "python",
   "name": "python3"
  },
  "language_info": {
   "codemirror_mode": {
    "name": "ipython",
    "version": 3
   },
   "file_extension": ".py",
   "mimetype": "text/x-python",
   "name": "python",
   "nbconvert_exporter": "python",
   "pygments_lexer": "ipython3",
   "version": "3.9.7"
  },
  "orig_nbformat": 4
 },
 "nbformat": 4,
 "nbformat_minor": 2
}
