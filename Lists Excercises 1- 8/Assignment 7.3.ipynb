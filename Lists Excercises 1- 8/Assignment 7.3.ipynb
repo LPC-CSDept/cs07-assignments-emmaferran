{
 "cells": [
  {
   "cell_type": "code",
   "execution_count": 1,
   "metadata": {},
   "outputs": [
    {
     "name": "stdout",
     "output_type": "stream",
     "text": [
      "False\n"
     ]
    }
   ],
   "source": [
    "#assignment 7.3\n",
    "num1 = [10, 5, 20, 0, 40, 45, 50]\n",
    "num2 = [40, 10, 5, 55]\n",
    "flag = 0\n",
    "for i in range(len(num2)):\n",
    "    if num2 [i] in num1:\n",
    "        continue\n",
    "    else:\n",
    "        flag = 1\n",
    "        break \n",
    "if flag:\n",
    "    print (\"False\")\n",
    "else:\n",
    "    print (\"True\")"
   ]
  }
 ],
 "metadata": {
  "interpreter": {
   "hash": "efaa31b3fdd0aa5f69cd85fac95224499cb40d936a3ba030c12769efa9806897"
  },
  "kernelspec": {
   "display_name": "Python 3.9.7 ('base')",
   "language": "python",
   "name": "python3"
  },
  "language_info": {
   "codemirror_mode": {
    "name": "ipython",
    "version": 3
   },
   "file_extension": ".py",
   "mimetype": "text/x-python",
   "name": "python",
   "nbconvert_exporter": "python",
   "pygments_lexer": "ipython3",
   "version": "3.9.7"
  },
  "orig_nbformat": 4
 },
 "nbformat": 4,
 "nbformat_minor": 2
}
