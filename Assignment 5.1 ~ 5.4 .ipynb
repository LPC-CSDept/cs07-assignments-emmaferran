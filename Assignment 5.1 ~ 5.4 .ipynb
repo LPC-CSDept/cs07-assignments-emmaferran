{
 "cells": [
  {
   "cell_type": "code",
   "execution_count": 18,
   "metadata": {},
   "outputs": [
    {
     "name": "stdout",
     "output_type": "stream",
     "text": [
      "[5, 6, 0, 0, 10]\n",
      "21\n"
     ]
    }
   ],
   "source": [
    "#assignment 5.1\n",
    "def sumProduct(list1, list2):\n",
    "    i = 0 \n",
    "\n",
    "    for i in range(len(list1)):\n",
    "            list3.append(list1[i]*list2[i])\n",
    "        \n",
    "    print(list3)\n",
    "    total = sum(list3)\n",
    "    return total       \n",
    "\n",
    "        \n",
    "list1 = [5, 3, 1, 0, 2]\n",
    "list2 = [1, 2, 0, 9, 5]\n",
    "list3 = []\n",
    "\n",
    "answer = sumProduct(list1, list2)\n",
    "print(answer)\n"
   ]
  },
  {
   "cell_type": "code",
   "execution_count": 26,
   "metadata": {},
   "outputs": [
    {
     "name": "stdout",
     "output_type": "stream",
     "text": [
      "['E', 'M', 'M', 'A']\n"
     ]
    }
   ],
   "source": [
    "#assignment 5.2\n",
    "def stripSpace(str):\n",
    "    uppercase = []\n",
    "    for i in str:\n",
    "        if i.isupper():\n",
    "            uppercase.append(i)\n",
    "\n",
    "    return uppercase\n",
    "\n",
    "\n",
    "    \n",
    "\n",
    "str = input(\"Enter string\")\n",
    "answer = stripSpace(str)\n",
    "print(answer)\n"
   ]
  },
  {
   "cell_type": "code",
   "execution_count": 29,
   "metadata": {},
   "outputs": [
    {
     "name": "stdout",
     "output_type": "stream",
     "text": [
      " pythonprogrammingsection2\n"
     ]
    }
   ],
   "source": [
    "#assignment 5.3\n",
    "isspace = lambda x : x.isspace()\n",
    "\n",
    "def mystrip(msg):\n",
    "    result = \" \"\n",
    "    for x in msg:\n",
    "        if isspace(x) == False:\n",
    "            result += x\n",
    "    return result\n",
    "\n",
    "msg = input(\"Enter string\")\n",
    "answer = mystrip(msg)\n",
    "print(answer)\n",
    "\n",
    "\n",
    "\n",
    "\n",
    "\n"
   ]
  },
  {
   "cell_type": "code",
   "execution_count": 30,
   "metadata": {},
   "outputs": [
    {
     "name": "stdout",
     "output_type": "stream",
     "text": [
      "P\n",
      "y\n",
      "t\n",
      "h\n",
      "o\n",
      "n\n",
      "P\n",
      "r\n",
      "o\n",
      "g\n",
      "r\n",
      "a\n",
      "m\n",
      "m\n",
      "i\n",
      "n\n",
      "g\n"
     ]
    }
   ],
   "source": [
    "#assignment 5.4\n",
    "def getalnum(msg):\n",
    "    for x in msg:\n",
    "        if x.isalnum():\n",
    "            yield x\n",
    "\n",
    "msg = input(\"Enter string\")\n",
    "answer = getalnum(msg)\n",
    "for v in answer:\n",
    "    print (v)"
   ]
  }
 ],
 "metadata": {
  "interpreter": {
   "hash": "efaa31b3fdd0aa5f69cd85fac95224499cb40d936a3ba030c12769efa9806897"
  },
  "kernelspec": {
   "display_name": "Python 3.9.7 ('base')",
   "language": "python",
   "name": "python3"
  },
  "language_info": {
   "codemirror_mode": {
    "name": "ipython",
    "version": 3
   },
   "file_extension": ".py",
   "mimetype": "text/x-python",
   "name": "python",
   "nbconvert_exporter": "python",
   "pygments_lexer": "ipython3",
   "version": "3.9.7"
  },
  "orig_nbformat": 4
 },
 "nbformat": 4,
 "nbformat_minor": 2
}
