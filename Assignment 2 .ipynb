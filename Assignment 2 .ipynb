{
 "cells": [
  {
   "cell_type": "code",
   "execution_count": 1,
   "metadata": {},
   "outputs": [
    {
     "name": "stdout",
     "output_type": "stream",
     "text": [
      "37.00 degrees celsius = 98.60 degrees fahrenheit\n"
     ]
    }
   ],
   "source": [
    "celsius = int(input(\"degrees\"))\n",
    "\n",
    "fahrenheit = (celsius * 1.8) + 32\n",
    "print(\"%.2f degrees celsius = %.2f degrees fahrenheit\" %( celsius, fahrenheit ))\n",
    "\n"
   ]
  },
  {
   "cell_type": "code",
   "execution_count": 2,
   "metadata": {},
   "outputs": [
    {
     "name": "stdout",
     "output_type": "stream",
     "text": [
      "37.00\n",
      "98.60\n"
     ]
    }
   ],
   "source": [
    "celsius = int(input(\"degrees Celsius\"))\n",
    "fahrenheit = (celsius * 1.8) + 32\n",
    "val1 = print(format(celsius, '.2f'))\n",
    "val2 = print(format(fahrenheit, '.2f'))\n"
   ]
  }
 ],
 "metadata": {
  "interpreter": {
   "hash": "efaa31b3fdd0aa5f69cd85fac95224499cb40d936a3ba030c12769efa9806897"
  },
  "kernelspec": {
   "display_name": "Python 3.9.7 ('base': conda)",
   "language": "python",
   "name": "python3"
  },
  "language_info": {
   "codemirror_mode": {
    "name": "ipython",
    "version": 3
   },
   "file_extension": ".py",
   "mimetype": "text/x-python",
   "name": "python",
   "nbconvert_exporter": "python",
   "pygments_lexer": "ipython3",
   "version": "3.9.7"
  },
  "orig_nbformat": 4
 },
 "nbformat": 4,
 "nbformat_minor": 2
}
